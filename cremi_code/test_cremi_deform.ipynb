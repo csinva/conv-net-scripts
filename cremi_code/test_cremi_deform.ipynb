{
 "cells": [
  {
   "cell_type": "code",
   "execution_count": 61,
   "metadata": {
    "collapsed": true
   },
   "outputs": [],
   "source": [
    "import h5py\n",
    "import numpy as np\n",
    "import os.path as op\n",
    "import os\n",
    "data_folder = '/groups/turaga/home/singhc/cremi/cremi-deform/test_data/'\n",
    "output_folder = ''\n",
    "input_fname = data_folder + 'input.h5'\n",
    "output_fname = data_folder + 'output.h5'"
   ]
  },
  {
   "cell_type": "markdown",
   "metadata": {},
   "source": [
    "# create input"
   ]
  },
  {
   "cell_type": "code",
   "execution_count": 102,
   "metadata": {
    "collapsed": false
   },
   "outputs": [],
   "source": [
    "seg = np.random.randint(low=1,high=10,size=(100,100,100))\n",
    "raw = np.random.randint(0,100,size=(100,100,100))\n",
    "\n",
    "if op.isfile(input_fname):\n",
    "    os.remove(input_fname)\n",
    "input_file = h5py.File(input_fname)\n",
    "input_file['neuron_ids']=seg\n",
    "input_file['raw']=raw\n",
    "input_file.close()"
   ]
  },
  {
   "cell_type": "markdown",
   "metadata": {},
   "source": [
    "# create output"
   ]
  },
  {
   "cell_type": "code",
   "execution_count": 96,
   "metadata": {
    "collapsed": true
   },
   "outputs": [
    {
     "ename": "ValueError",
     "evalue": "Not a dataset (Not a dataset)",
     "output_type": "error",
     "traceback": [
      "\u001b[1;31m---------------------------------------------------------------------------\u001b[0m",
      "\u001b[1;31mValueError\u001b[0m                                Traceback (most recent call last)",
      "\u001b[1;32m<ipython-input-96-a8a86fa8cfea>\u001b[0m in \u001b[0;36m<module>\u001b[1;34m()\u001b[0m\n\u001b[0;32m      3\u001b[0m \u001b[0mraw\u001b[0m \u001b[1;33m=\u001b[0m \u001b[0mf\u001b[0m\u001b[1;33m[\u001b[0m\u001b[1;34m'raw'\u001b[0m\u001b[1;33m]\u001b[0m\u001b[1;33m\u001b[0m\u001b[0m\n\u001b[0;32m      4\u001b[0m \u001b[0mf\u001b[0m\u001b[1;33m.\u001b[0m\u001b[0mclose\u001b[0m\u001b[1;33m(\u001b[0m\u001b[1;33m)\u001b[0m\u001b[1;33m\u001b[0m\u001b[0m\n\u001b[1;32m----> 5\u001b[1;33m \u001b[1;32mprint\u001b[0m \u001b[0mraw\u001b[0m\u001b[1;33m.\u001b[0m\u001b[0mshape\u001b[0m\u001b[1;33m\u001b[0m\u001b[0m\n\u001b[0m\u001b[0;32m      6\u001b[0m \u001b[1;32mprint\u001b[0m \u001b[0mseg\u001b[0m\u001b[1;33m.\u001b[0m\u001b[0mshape\u001b[0m\u001b[1;33m\u001b[0m\u001b[0m\n",
      "\u001b[1;32mh5py/_objects.pyx\u001b[0m in \u001b[0;36mh5py._objects.with_phil.wrapper (-------src-dir-------/h5py/_objects.c:2458)\u001b[1;34m()\u001b[0m\n",
      "\u001b[1;32mh5py/_objects.pyx\u001b[0m in \u001b[0;36mh5py._objects.with_phil.wrapper (-------src-dir-------/h5py/_objects.c:2415)\u001b[1;34m()\u001b[0m\n",
      "\u001b[1;32m/groups/turaga/home/singhc/anaconda/lib/python2.7/site-packages/h5py/_hl/dataset.pyc\u001b[0m in \u001b[0;36mshape\u001b[1;34m(self)\u001b[0m\n\u001b[0;32m    167\u001b[0m     \u001b[1;32mdef\u001b[0m \u001b[0mshape\u001b[0m\u001b[1;33m(\u001b[0m\u001b[0mself\u001b[0m\u001b[1;33m)\u001b[0m\u001b[1;33m:\u001b[0m\u001b[1;33m\u001b[0m\u001b[0m\n\u001b[0;32m    168\u001b[0m         \u001b[1;34m\"\"\"Numpy-style shape tuple giving dataset dimensions\"\"\"\u001b[0m\u001b[1;33m\u001b[0m\u001b[0m\n\u001b[1;32m--> 169\u001b[1;33m         \u001b[1;32mreturn\u001b[0m \u001b[0mself\u001b[0m\u001b[1;33m.\u001b[0m\u001b[0mid\u001b[0m\u001b[1;33m.\u001b[0m\u001b[0mshape\u001b[0m\u001b[1;33m\u001b[0m\u001b[0m\n\u001b[0m\u001b[0;32m    170\u001b[0m     \u001b[1;33m@\u001b[0m\u001b[0mshape\u001b[0m\u001b[1;33m.\u001b[0m\u001b[0msetter\u001b[0m\u001b[1;33m\u001b[0m\u001b[0m\n\u001b[0;32m    171\u001b[0m     \u001b[1;33m@\u001b[0m\u001b[0mwith_phil\u001b[0m\u001b[1;33m\u001b[0m\u001b[0m\n",
      "\u001b[1;32mh5py/h5d.pyx\u001b[0m in \u001b[0;36mh5py.h5d.DatasetID.shape.__get__ (-------src-dir-------/h5py/h5d.c:2444)\u001b[1;34m()\u001b[0m\n",
      "\u001b[1;32mh5py/h5d.pyx\u001b[0m in \u001b[0;36mh5py.h5d.DatasetID.shape.__get__ (-------src-dir-------/h5py/h5d.c:2365)\u001b[1;34m()\u001b[0m\n",
      "\u001b[1;32mh5py/_objects.pyx\u001b[0m in \u001b[0;36mh5py._objects.with_phil.wrapper (-------src-dir-------/h5py/_objects.c:2458)\u001b[1;34m()\u001b[0m\n",
      "\u001b[1;32mh5py/_objects.pyx\u001b[0m in \u001b[0;36mh5py._objects.with_phil.wrapper (-------src-dir-------/h5py/_objects.c:2415)\u001b[1;34m()\u001b[0m\n",
      "\u001b[1;32mh5py/h5d.pyx\u001b[0m in \u001b[0;36mh5py.h5d.DatasetID.get_space (-------src-dir-------/h5py/h5d.c:4055)\u001b[1;34m()\u001b[0m\n",
      "\u001b[1;31mValueError\u001b[0m: Not a dataset (Not a dataset)"
     ]
    }
   ],
   "source": [
    "f = h5py.File(output_fname)\n",
    "seg = f['neuron_ids']\n",
    "raw = f['raw']\n",
    "f.close()\n",
    "print raw.shape\n",
    "print seg.shape"
   ]
  },
  {
   "cell_type": "markdown",
   "metadata": {},
   "source": [
    "# snemi"
   ]
  },
  {
   "cell_type": "code",
   "execution_count": 1130,
   "metadata": {
    "collapsed": true
   },
   "outputs": [],
   "source": [
    "in_folder = '/groups/turaga/home/turagas/data/SNEMI3D/'\n",
    "out_folder = '/nobackup/turaga/singhc/SNEMI_aug/'\n",
    "raw_in = in_folder+'train_im_uint8.h5'\n",
    "seg_in = in_folder+'train_seg.h5'\n",
    "raw_out = out_folder+'raw_out.0.h5'\n",
    "seg_out = out_folder+'seg_out.0.h5'\n",
    "f = h5py.File(seg_in)\n",
    "f2 = h5py.File(seg_out)\n",
    "seg = np.array(f['main'])\n",
    "seg2 = np.array(f2['main'])\n",
    "raw = np.array(f['main'])\n",
    "raw2 = np.array(f2['main'])\n",
    "f2.close()\n",
    "f.close()"
   ]
  },
  {
   "cell_type": "markdown",
   "metadata": {},
   "source": [
    "# visualize"
   ]
  },
  {
   "cell_type": "code",
   "execution_count": 1131,
   "metadata": {
    "collapsed": false,
    "scrolled": false
   },
   "outputs": [
    {
     "data": {
      "text/html": [
       "<style>.container { width:100% !important; }</style><iframe src=\"http://localhost:8889/viewer#!%7B%22layers%22:%20%7B%22raw%22:%20%7B%22source%22:%20%22ndstore://http://localhost:8889/%252Frun%252Fuser%252F52556%252Fjupyter%252Fkernel-034a9c24-2544-40d3-a278-51ebf52489bc.json6xa2kq777fggvevs%22,%20%22type%22:%20%22image%22%7D,%20%22raw2%22:%20%7B%22source%22:%20%22ndstore://http://localhost:8889/%252Frun%252Fuser%252F52556%252Fjupyter%252Fkernel-034a9c24-2544-40d3-a278-51ebf52489bc.jsonzyoq7m08plgwnfvw%22,%20%22type%22:%20%22image%22%7D%7D%7D\" width=\"100%\" height=\"1024px\"><\\iframe>"
      ],
      "text/plain": [
       "<IPython.core.display.HTML object>"
      ]
     },
     "execution_count": 1131,
     "metadata": {},
     "output_type": "execute_result"
    }
   ],
   "source": [
    "import nyroglancer\n",
    "v = nyroglancer.Viewer()\n",
    "v.set_hostname(\"localhost:8889\")\n",
    "v.put(raw, resolution=[40,4,4], vtype=\"raw\", name=\"raw\")\n",
    "v.put(raw2, resolution=[40,4,4], vtype=\"raw\", name=\"raw2\")\n",
    "# v.put(seg, resolution=[40,4,4], vtype=\"seg\", name=\"seg1\")\n",
    "# v.put(seg2, resolution=[40,4,4], vtype=\"seg\", name=\"seg2\")\n",
    "v.set_large() # this will widen the IPython column to show a large viewer\n",
    "v.show()"
   ]
  },
  {
   "cell_type": "code",
   "execution_count": null,
   "metadata": {
    "collapsed": true
   },
   "outputs": [],
   "source": []
  },
  {
   "cell_type": "code",
   "execution_count": null,
   "metadata": {
    "collapsed": true
   },
   "outputs": [],
   "source": []
  }
 ],
 "metadata": {
  "kernelspec": {
   "display_name": "Python 2",
   "language": "python",
   "name": "python2"
  },
  "language_info": {
   "codemirror_mode": {
    "name": "ipython",
    "version": 2
   },
   "file_extension": ".py",
   "mimetype": "text/x-python",
   "name": "python",
   "nbconvert_exporter": "python",
   "pygments_lexer": "ipython2",
   "version": "2.7.11"
  }
 },
 "nbformat": 4,
 "nbformat_minor": 0
}
