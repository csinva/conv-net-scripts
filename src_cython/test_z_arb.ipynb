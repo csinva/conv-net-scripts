{
 "cells": [
  {
   "cell_type": "code",
   "execution_count": 1,
   "metadata": {
    "collapsed": false
   },
   "outputs": [
    {
     "name": "stdout",
     "output_type": "stream",
     "text": [
      "gt,aff shapes (520, 520, 520) (3, 432, 432, 432)\n",
      "gt,aff shapes (72, 72, 72) (3, 72, 72, 72)\n",
      "len node1 1104189\n",
      "n1,n2,edge 2 373247 1 373246 1.02468e-07 1.0\n",
      "\n",
      "original watershed...\n",
      "[   29 12480    29   275    29    15  1622 25757    23    29]\n",
      "[ 7 23  8 12  8  4  6  3  6  6]\n",
      "big counts [120807, 25757, 25744, 22016, 14686, 12480, 11853, 2753, 2432, 2341, 2321, 2066, 1635, 1622, 1590, 1487, 1339, 1107, 985, 965]\n",
      "sum counts 373248\n",
      "counts [0, 2, 2, 2, 2, 2, 2, 2, 2, 2]\n",
      "counts [0, 10, 10, 10, 10, 10, 10, 10, 10, 10]\n",
      "counts [0, 10, 10, 10, 10, 10, 10, 10, 10, 10]\n",
      "{'V_Rand_merge': [0.9992905335459135, 0.9992555697675962, 0.9991152442557106], 'V_Rand_split': [0.5954179866079635, 0.6459565768037164, 0.666123677467425], 'V_Rand': 0.7993259249894364}\n",
      "nsegs 9282 679\n",
      "\n",
      "new watershed...\n"
     ]
    },
    {
     "ename": "NameError",
     "evalue": "name 'zwatershed_and_metrics_edge' is not defined",
     "output_type": "error",
     "traceback": [
      "\u001b[0;31m---------------------------------------------------------------------------\u001b[0m",
      "\u001b[0;31mNameError\u001b[0m                                 Traceback (most recent call last)",
      "\u001b[0;32m<ipython-input-1-afedaee717e6>\u001b[0m in \u001b[0;36m<module>\u001b[0;34m()\u001b[0m\n\u001b[1;32m     45\u001b[0m \u001b[0;32mprint\u001b[0m \u001b[0;34m\"nsegs\"\u001b[0m\u001b[0;34m,\u001b[0m \u001b[0mlen\u001b[0m\u001b[0;34m(\u001b[0m\u001b[0mnp\u001b[0m\u001b[0;34m.\u001b[0m\u001b[0munique\u001b[0m\u001b[0;34m(\u001b[0m\u001b[0mseg_one\u001b[0m\u001b[0;34m)\u001b[0m\u001b[0;34m)\u001b[0m\u001b[0;34m,\u001b[0m\u001b[0mlen\u001b[0m\u001b[0;34m(\u001b[0m\u001b[0mnp\u001b[0m\u001b[0;34m.\u001b[0m\u001b[0munique\u001b[0m\u001b[0;34m(\u001b[0m\u001b[0msegs_old\u001b[0m\u001b[0;34m[\u001b[0m\u001b[0;36m0\u001b[0m\u001b[0;34m]\u001b[0m\u001b[0;34m)\u001b[0m\u001b[0;34m)\u001b[0m\u001b[0;34m\u001b[0m\u001b[0m\n\u001b[1;32m     46\u001b[0m \u001b[0;32mprint\u001b[0m \u001b[0;34m\"\\nnew watershed...\"\u001b[0m\u001b[0;34m\u001b[0m\u001b[0m\n\u001b[0;32m---> 47\u001b[0;31m seg_one_new, segs_new, rand_new = zwatershed_and_metrics_edge(gt, np.array(node1, dtype='uint32'), np.array(node2, dtype='uint32'),\n\u001b[0m\u001b[1;32m     48\u001b[0m                                        np.array(edge_affs), threshes, save_threshes)\n\u001b[1;32m     49\u001b[0m \u001b[0;32mprint\u001b[0m \u001b[0mrand_new\u001b[0m\u001b[0;34m\u001b[0m\u001b[0m\n",
      "\u001b[0;31mNameError\u001b[0m: name 'zwatershed_and_metrics_edge' is not defined"
     ]
    }
   ],
   "source": [
    "import numpy as np\n",
    "import sys\n",
    "import time\n",
    "import os\n",
    "import h5py\n",
    "import os.path as op\n",
    "import matplotlib.cm as cm\n",
    "from matplotlib.widgets import Slider, Button, RadioButtons\n",
    "import matplotlib.pyplot as plt\n",
    "import array\n",
    "%matplotlib inline\n",
    "\n",
    "sys.path.append('..')\n",
    "from zwatershed import *\n",
    "from visualization.visualize_funcs import *\n",
    "\n",
    "path_to_folder = '/Users/chandansingh/drive/janelia/conv_net_scripts/'\n",
    "path_to_data = path_to_folder + 'data/'\n",
    "\n",
    "start = time.clock()\n",
    "threshes = [10,2000]\n",
    "hdf5_gt_file = path_to_data + 'groundtruth_seg_thick.h5'  # /groups/turaga/home/turagas/data/FlyEM/fibsem_medulla_7col/tstvol-520-1-h5/groundtruth_seg_thick.h5'\n",
    "hdf5_pred_file = path_to_data + 'tstvol-1_2.h5'  # /tier2/turaga/singhc/train/output_200000/tstvol-1_2.h5'\n",
    "out = path_to_data + 'out/'  # '/groups/turaga/home/singhc/evaluation/out/'\n",
    "save_threshes = threshes\n",
    "rand = 0\n",
    "p1, p2, p3 = 160, 180, 214  # 215, 214, 214 # 200, 200, 200\n",
    "\n",
    "hdf5_gt = h5py.File(hdf5_gt_file, 'r')\n",
    "hdf5_aff = h5py.File(hdf5_pred_file, 'r')\n",
    "gt = np.asarray(hdf5_gt[hdf5_gt.keys()[0]], dtype='uint32')\n",
    "aff = np.asarray(hdf5_aff[hdf5_aff.keys()[0]], dtype='float32')\n",
    "aff = aff[:, p1:(-1 * p1), p2:(-1 * p2), p3:(-1 * p3)]\n",
    "gt = trim_arbitrary_aff(gt, aff)\n",
    "\n",
    "nhood = mknhood3d(1)\n",
    "node1, node2, edge_affs = affgraph_to_edgelist(aff, nhood)\n",
    "print \"\\noriginal watershed...\"\n",
    "seg_one, segs_old, rand = zwatershed_and_metrics(gt, aff, threshes, save_threshes)\n",
    "\n",
    "print rand\n",
    "print \"nsegs\", len(np.unique(seg_one)),len(np.unique(segs_old[-1]))\n",
    "print \"\\nnew watershed...\"\n",
    "seg_one_new, segs_new, rand_new = zwatershed_and_metrics_arb(gt, np.array(node1, dtype='uint32'), np.array(node2, dtype='uint32'),\n",
    "                                       np.array(edge_affs), threshes, save_threshes)\n",
    "print rand_new\n",
    "print \"nsegs\", len(np.unique(seg_one_new)),len(np.unique(segs_new[-1]))\n",
    "\n",
    "print \"time: \", time.clock() - start"
   ]
  },
  {
   "cell_type": "code",
   "execution_count": null,
   "metadata": {
    "collapsed": true
   },
   "outputs": [],
   "source": [
    "## Open training data and labels\n",
    "data_folder = '/Users/chandansingh/drive/janelia/conv_net_scripts/data/'# 'nobackup/turaga/data/FlyEM/fibsem_medulla_7col/tstvol-520-1/'\n",
    "os.chdir('/.')\n",
    "f = h5py.File(data_folder + 'im_uint8.h5', 'r')\n",
    "im = f[f.keys()[0]] # was 'main'\n",
    "g = h5py.File(data_folder + 'groundtruth_aff.h5', 'r')\n",
    "label_set = np.asarray(g[g.keys()[0]],dtype='float32') #3,z,y,x - was 'main'\n",
    "label_set = np.transpose(label_set,(1,2,3,0))"
   ]
  },
  {
   "cell_type": "code",
   "execution_count": null,
   "metadata": {
    "collapsed": false
   },
   "outputs": [],
   "source": [
    "# view segs\n",
    "seg_old = segs_old[0]#seg_one\n",
    "seg_new = segs_new[0]\n",
    "# im,label_set=trim(im,label_set,seg) \n",
    "# seg = seg.transpose((2, 1, 0)).reshape(shape).transpose((2, 1, 0))\n",
    "print im.shape,label_set.shape,seg_new.shape\n",
    "im,label_set=trim_arbitrary(im,label_set,seg_new) \n",
    "print im.shape,label_set.shape,seg_new.shape\n",
    "print \"old num\",len(np.unique(seg_old)),\"new num\",len(np.unique(seg_new))\n",
    "# display_seg(im, label_set, seg, im_size=label_set.shape[0], im2_size=seg.shape[0])\n",
    "display_arbitrary_seg(im, label_set, seg_old)\n",
    "display_arbitrary_seg(im, label_set, seg_new)"
   ]
  },
  {
   "cell_type": "code",
   "execution_count": null,
   "metadata": {
    "collapsed": true
   },
   "outputs": [],
   "source": []
  }
 ],
 "metadata": {
  "kernelspec": {
   "display_name": "Python 2",
   "language": "python",
   "name": "python2"
  },
  "language_info": {
   "codemirror_mode": {
    "name": "ipython",
    "version": 2
   },
   "file_extension": ".py",
   "mimetype": "text/x-python",
   "name": "python",
   "nbconvert_exporter": "python",
   "pygments_lexer": "ipython2",
   "version": "2.7.10"
  }
 },
 "nbformat": 4,
 "nbformat_minor": 0
}
