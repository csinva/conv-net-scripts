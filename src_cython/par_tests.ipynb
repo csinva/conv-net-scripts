{
 "cells": [
  {
   "cell_type": "code",
   "execution_count": 139,
   "metadata": {
    "collapsed": false
   },
   "outputs": [],
   "source": [
    "import numpy as np\n",
    "import sys\n",
    "import time\n",
    "import os\n",
    "import h5py\n",
    "import os.path as op\n",
    "import matplotlib.cm as cm\n",
    "from matplotlib.widgets import Slider, Button, RadioButtons\n",
    "import matplotlib.pyplot as plt\n",
    "import array\n",
    "%matplotlib inline\n",
    "sys.path.append('..')\n",
    "from zwatershed import *\n",
    "from visualization.visualize_funcs import *\n",
    "from edgelist_methods import *\n",
    "path_to_folder = '/Users/chandansingh/drive/janelia/conv_net_scripts/'\n",
    "path_to_data = path_to_folder + 'data/'\n",
    "\n",
    "# -------------------------------- parameters ---------------------------------------\n",
    "pred_file = '/groups/turaga/home/turagas/research/caffe_v2/processed/bock2/120000/sample_A_x1_y1_z1_xy1.h5'\n",
    "pred_file_2 = '/groups/turaga/home/turagas/research/caffe_v2/processed/bock2/120000/cutout_3k.h5'\n",
    "out_folder = '/nobackup/turaga/singhc/par_zwshed/'\n",
    "threshes = [2000]\n",
    "from multiprocessing import Pool\n",
    "cmap = matplotlib.colors.ListedColormap(np.vstack(((0, 0, 0), np.random.rand(255, 3))))"
   ]
  },
  {
   "cell_type": "code",
   "execution_count": 116,
   "metadata": {
    "collapsed": false
   },
   "outputs": [
    {
     "name": "stdout",
     "output_type": "stream",
     "text": [
      "(3, 125, 1250, 1250)\n"
     ]
    }
   ],
   "source": [
    "f = h5py.File(pred_file, 'r') # only key is main\n",
    "preds = f['main']\n",
    "print preds.shape"
   ]
  },
  {
   "cell_type": "markdown",
   "metadata": {},
   "source": [
    "# Divide Volumes, set up args"
   ]
  },
  {
   "cell_type": "code",
   "execution_count": null,
   "metadata": {
    "collapsed": true
   },
   "outputs": [],
   "source": [
    "def zwshed_h5_par(arg):\n",
    "    (pred_vol,threshes,seg_save_path) = arg\n",
    "    print \"calculating\",seg_save_path,\"watershed\"\n",
    "    # zwatershed_h5(pred_vol, threshes,seg_save_path)\n",
    "    print \"finished\",seg_save_path,\"watershed\""
   ]
  },
  {
   "cell_type": "code",
   "execution_count": 126,
   "metadata": {
    "collapsed": false
   },
   "outputs": [
    {
     "name": "stdout",
     "output_type": "stream",
     "text": [
      "dims [ 125 1250 1250]\n",
      "num_vols [1 4 4]\n",
      "deltas [125 312 312]\n",
      "[0 0 0] [129 313 313] (3, 125, 313, 313)\n",
      "[  0   0 312] [129 313 625] (3, 125, 313, 313)\n"
     ]
    }
   ],
   "source": [
    "MAX_LEN = 400\n",
    "dims = np.array((preds.shape[1:50]))\n",
    "print \"dims\",dims\n",
    "num_vols = np.array([int(x/MAX_LEN)+1 for x in dims])\n",
    "deltas = dims/num_vols\n",
    "print \"num_vols\",num_vols\n",
    "print \"deltas\",deltas\n",
    "starts = []\n",
    "ends = []\n",
    "for x in range(num_vols[0]):\n",
    "    for y in range(num_vols[1]):\n",
    "        for z in range(num_vols[2]):\n",
    "            starts.append((x,y,z)*deltas)\n",
    "            extra = 3*np.array([x==num_vols[0]-1,y==num_vols[1]-1,z==num_vols[2]-1],dtype='int')\n",
    "            ends.append((x,y,z)*deltas + deltas + [1,1,1]+extra)\n",
    "args = []\n",
    "for i in range(2): # len(starts)):\n",
    "    s = starts[i]\n",
    "    e = ends[i]\n",
    "    pred_vol = preds[:,s[0]:e[0],s[1]:e[1],s[2]:e[2]]\n",
    "    print s,e,pred_vol.shape\n",
    "    args.append((pred_vol,threshes,out_folder+dim_to_name(s)))    "
   ]
  },
  {
   "cell_type": "markdown",
   "metadata": {},
   "source": [
    "# Call Watershed"
   ]
  },
  {
   "cell_type": "code",
   "execution_count": 127,
   "metadata": {
    "collapsed": false
   },
   "outputs": [
    {
     "name": "stdout",
     "output_type": "stream",
     "text": [
      "[None, None]\n",
      "calculating /nobackup/turaga/singhc/par_zwshed/0_0_0/ watershed\n",
      "calculating /nobackup/turaga/singhc/par_zwshed/0_0_312/ watershed\n",
      "finishedfinished /nobackup/turaga/singhc/par_zwshed/0_0_0/ watershed\n",
      " /nobackup/turaga/singhc/par_zwshed/0_0_312/ watershed\n"
     ]
    }
   ],
   "source": [
    "p = Pool(2)\n",
    "print(p.map(zwshed_h5_par, args))"
   ]
  },
  {
   "cell_type": "markdown",
   "metadata": {},
   "source": [
    "# Visualize"
   ]
  },
  {
   "cell_type": "code",
   "execution_count": 136,
   "metadata": {
    "collapsed": false
   },
   "outputs": [
    {
     "name": "stdout",
     "output_type": "stream",
     "text": [
      "/nobackup/turaga/singhc/par_zwshed/0_0_0/ (125, 313, 313)\n",
      "/nobackup/turaga/singhc/par_zwshed/0_0_312/ (125, 313, 313)\n"
     ]
    }
   ],
   "source": [
    "for arg in args:\n",
    "    for filename in os.listdir(arg[2]):\n",
    "        seg_h5 = h5py.File(arg[2]+filename,'r')\n",
    "        seg = seg_h5['main']\n",
    "        print arg[2],seg.shape"
   ]
  },
  {
   "cell_type": "code",
   "execution_count": 141,
   "metadata": {
    "collapsed": false
   },
   "outputs": [
    {
     "data": {
      "image/png": "[encoded data removed]",
      "text/plain": [
       "<matplotlib.figure.Figure at 0x7fe943285d50>"
      ]
     },
     "metadata": {},
     "output_type": "display_data"
    }
   ],
   "source": [
    "def display_affs(raw, label, seg):\n",
    "    fig = plt.figure(figsize=(20, 10))\n",
    "    fig.set_facecolor('white')\n",
    "    ax1, ax2, ax3 = fig.add_subplot(1, 3, 1), fig.add_subplot(1, 3, 2), fig.add_subplot(1, 3, 3)\n",
    "    fig.subplots_adjust(left=0.2, bottom=0.25)\n",
    "    ax1.imshow(np.transpose(raw[:, :, :, 1],(2,1,0)))\n",
    "    ax1.set_title('Raw')\n",
    "    plt.show()\n",
    "def display_segs(raw, label, seg):\n",
    "    fig = plt.figure(figsize=(20, 10))\n",
    "    fig.set_facecolor('white')\n",
    "    ax1, ax2, ax3 = fig.add_subplot(1, 3, 1), fig.add_subplot(1, 3, 2), fig.add_subplot(1, 3, 3)\n",
    "    fig.subplots_adjust(left=0.2, bottom=0.25)\n",
    "    ax1.imshow(raw[1, :, :])\n",
    "    ax1.set_title('Raw')\n",
    "    plt.show()\n",
    "# display_arbitrary(preds,preds,preds)\n",
    "display_segs(seg,seg,seg)"
   ]
  },
  {
   "cell_type": "code",
   "execution_count": 118,
   "metadata": {
    "collapsed": true
   },
   "outputs": [],
   "source": [
    "def dim_to_name(start):\n",
    "    return str(start[0])+'_'+str(start[1])+'_'+str(start[2])+'/'"
   ]
  },
  {
   "cell_type": "code",
   "execution_count": 122,
   "metadata": {
    "collapsed": false
   },
   "outputs": [
    {
     "name": "stdout",
     "output_type": "stream",
     "text": [
      "[1, 4, 9]\n"
     ]
    }
   ],
   "source": [
    "def f(x):\n",
    "    return x*x\n",
    "\n"
   ]
  },
  {
   "cell_type": "code",
   "execution_count": null,
   "metadata": {
    "collapsed": true
   },
   "outputs": [],
   "source": []
  }
 ],
 "metadata": {
  "kernelspec": {
   "display_name": "Python 2",
   "language": "python",
   "name": "python2"
  },
  "language_info": {
   "codemirror_mode": {
    "name": "ipython",
    "version": 2
   },
   "file_extension": ".py",
   "mimetype": "text/x-python",
   "name": "python",
   "nbconvert_exporter": "python",
   "pygments_lexer": "ipython2",
   "version": "2.7.11"
  }
 },
 "nbformat": 4,
 "nbformat_minor": 0
}
