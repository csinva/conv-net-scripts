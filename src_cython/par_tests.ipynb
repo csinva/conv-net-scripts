{
 "cells": [
  {
   "cell_type": "code",
   "execution_count": 1,
   "metadata": {
    "collapsed": false
   },
   "outputs": [],
   "source": [
    "import numpy as np\n",
    "import sys\n",
    "import time\n",
    "import os\n",
    "import h5py\n",
    "import os.path as op\n",
    "import matplotlib.cm as cm\n",
    "from matplotlib.widgets import Slider, Button, RadioButtons\n",
    "import matplotlib.pyplot as plt\n",
    "import array\n",
    "%matplotlib inline\n",
    "sys.path.append('..')\n",
    "from zwatershed import *\n",
    "from visualization.visualize_funcs import *\n",
    "from edgelist_methods import *\n",
    "path_to_folder = '/Users/chandansingh/drive/janelia/conv_net_scripts/'\n",
    "path_to_data = path_to_folder + 'data/'\n",
    "from multiprocessing import Pool\n",
    "\n",
    "# -------------------------------- parameters ---------------------------------------\n",
    "pred_file = '/groups/turaga/home/turagas/research/caffe_v2/processed/bock2/120000/sample_A_x1_y1_z1_xy1.h5'\n",
    "pred_file_2 = '/groups/turaga/home/turagas/research/caffe_v2/processed/bock2/120000/cutout_3k.h5'\n",
    "out_folder = '/nobackup/turaga/singhc/par_zwshed/'\n",
    "threshes = [2000]\n",
    "cmap = matplotlib.colors.ListedColormap(np.vstack(((0, 0, 0), np.random.rand(255, 3))))\n",
    "NUM_WORKERS = 16"
   ]
  },
  {
   "cell_type": "code",
   "execution_count": 2,
   "metadata": {
    "collapsed": false
   },
   "outputs": [
    {
     "name": "stdout",
     "output_type": "stream",
     "text": [
      "(3, 125, 1250, 1250)\n"
     ]
    }
   ],
   "source": [
    "f = h5py.File(pred_file, 'r')\n",
    "preds = f['main']\n",
    "print preds.shape"
   ]
  },
  {
   "cell_type": "markdown",
   "metadata": {},
   "source": [
    "# Divide Volumes, set up args"
   ]
  },
  {
   "cell_type": "code",
   "execution_count": 3,
   "metadata": {
    "collapsed": true
   },
   "outputs": [],
   "source": [
    "def zwshed_h5_par(arg):\n",
    "    (pred_vol,threshes,seg_save_path) = arg\n",
    "    print \"calculating\",seg_save_path,\"watershed\"\n",
    "    zwatershed_h5(pred_vol, threshes,seg_save_path)\n",
    "    print \"finished\",seg_save_path,\"watershed\"\n",
    "def dim_to_name(start):\n",
    "    return str(start[0])+'_'+str(start[1])+'_'+str(start[2])+'/'"
   ]
  },
  {
   "cell_type": "code",
   "execution_count": 19,
   "metadata": {
    "collapsed": false
   },
   "outputs": [
    {
     "name": "stdout",
     "output_type": "stream",
     "text": [
      "dims [ 125 1250 1250]\n",
      "num_vols [1 4 4]\n",
      "deltas [125 312 312]\n",
      "[0 0 0] [129 313 313] (3, 125, 313, 313)\n",
      "[  0   0 312] [129 313 625] (3, 125, 313, 313)\n",
      "[  0   0 624] [129 313 937] (3, 125, 313, 313)\n",
      "[  0   0 936] [ 129  313 1252] (3, 125, 313, 314)\n",
      "[  0 312   0] [129 625 313] (3, 125, 313, 313)\n",
      "[  0 312 312] [129 625 625] (3, 125, 313, 313)\n",
      "[  0 312 624] [129 625 937] (3, 125, 313, 313)\n",
      "[  0 312 936] [ 129  625 1252] (3, 125, 313, 314)\n",
      "[  0 624   0] [129 937 313] (3, 125, 313, 313)\n",
      "[  0 624 312] [129 937 625] (3, 125, 313, 313)\n",
      "[  0 624 624] [129 937 937] (3, 125, 313, 313)\n",
      "[  0 624 936] [ 129  937 1252] (3, 125, 313, 314)\n",
      "[  0 936   0] [ 129 1252  313] (3, 125, 314, 313)\n",
      "[  0 936 312] [ 129 1252  625] (3, 125, 314, 313)\n",
      "[  0 936 624] [ 129 1252  937] (3, 125, 314, 313)\n",
      "[  0 936 936] [ 129 1252 1252] (3, 125, 314, 314)\n"
     ]
    }
   ],
   "source": [
    "MAX_LEN = 400\n",
    "dims = np.array((preds.shape[1:]))\n",
    "print \"dims\",dims # x,y,z\n",
    "num_vols = np.array([int(x/MAX_LEN)+1 for x in dims])\n",
    "deltas = dims/num_vols\n",
    "print \"num_vols\",num_vols\n",
    "print \"deltas\",deltas\n",
    "starts,ends = [],[]\n",
    "for x in range(num_vols[0]):\n",
    "    for y in range(num_vols[1]):\n",
    "        for z in range(num_vols[2]):\n",
    "            starts.append((x,y,z)*deltas)\n",
    "            extra = 3*np.array([x==num_vols[0]-1,y==num_vols[1]-1,z==num_vols[2]-1],dtype='int')\n",
    "            ends.append((x,y,z)*deltas + deltas + [1,1,1]+extra)\n",
    "args = []\n",
    "for i in range(len(starts)):\n",
    "    s,e = starts[i],ends[i]\n",
    "    pred_vol = preds[:,s[0]:e[0],s[1]:e[1],s[2]:e[2]]\n",
    "    print s,e,pred_vol.shape\n",
    "    args.append((pred_vol,threshes,out_folder+dim_to_name(s)))    \n",
    "zbars = {}"
   ]
  },
  {
   "cell_type": "markdown",
   "metadata": {},
   "source": [
    "# Call Watershed"
   ]
  },
  {
   "cell_type": "code",
   "execution_count": 24,
   "metadata": {
    "collapsed": false
   },
   "outputs": [
    {
     "name": "stdout",
     "output_type": "stream",
     "text": [
      "calculating /nobackup/turaga/singhc/par_zwshed/0_0_0/ watershed\n",
      "calculating /nobackup/turaga/singhc/par_zwshed/0_0_312/ watershed\n",
      "calculating /nobackup/turaga/singhc/par_zwshed/0_0_624/ watershed\n",
      "calculating /nobackup/turaga/singhc/par_zwshed/0_0_936/ watershed\n",
      "calculating /nobackup/turaga/singhc/par_zwshed/0_312_0/ watershed\n",
      "calculating /nobackup/turaga/singhc/par_zwshed/0_312_312/ watershed\n",
      "calculating /nobackup/turaga/singhc/par_zwshed/0_312_624/ watershed\n",
      "calculating /nobackup/turaga/singhc/par_zwshed/0_312_936/ watershed\n",
      "calculating /nobackup/turaga/singhc/par_zwshed/0_624_0/ watershed\n",
      "calculating /nobackup/turaga/singhc/par_zwshed/0_624_312/ watershed\n",
      "calculating /nobackup/turaga/singhc/par_zwshed/0_624_624/ watershed\n",
      "calculating /nobackup/turaga/singhc/par_zwshed/0_624_936/ watershed\n",
      "calculating /nobackup/turaga/singhc/par_zwshed/0_936_0/ watershed\n",
      "calculating /nobackup/turaga/singhc/par_zwshed/0_936_312/ watershed\n",
      "calculating /nobackup/turaga/singhc/par_zwshed/0_936_624/ watershed\n",
      "calculating /nobackup/turaga/singhc/par_zwshed/0_936_936/ watershed\n",
      "finishedfinishedfinished /nobackup/turaga/singhc/par_zwshed/0_0_0/ watershed\n",
      " /nobackup/turaga/singhc/par_zwshed/0_0_312/ watershed\n",
      " /nobackup/turaga/singhc/par_zwshed/0_312_0/ watershed\n"
     ]
    },
    {
     "ename": "IOError",
     "evalue": "Unable to create file (Unable to truncate a file which is already open)",
     "output_type": "error",
     "traceback": [
      "\u001b[1;31m---------------------------------------------------------------------------\u001b[0m",
      "\u001b[1;31mIOError\u001b[0m                                   Traceback (most recent call last)",
      "\u001b[1;32m<ipython-input-24-60bd256349f3>\u001b[0m in \u001b[0;36m<module>\u001b[1;34m()\u001b[0m\n\u001b[0;32m      1\u001b[0m \u001b[0mp\u001b[0m \u001b[1;33m=\u001b[0m \u001b[0mPool\u001b[0m\u001b[1;33m(\u001b[0m\u001b[0mNUM_WORKERS\u001b[0m\u001b[1;33m)\u001b[0m\u001b[1;33m\u001b[0m\u001b[0m\n\u001b[1;32m----> 2\u001b[1;33m \u001b[0mp\u001b[0m\u001b[1;33m.\u001b[0m\u001b[0mmap\u001b[0m\u001b[1;33m(\u001b[0m\u001b[0mzwshed_h5_par\u001b[0m\u001b[1;33m,\u001b[0m \u001b[0margs\u001b[0m\u001b[1;33m)\u001b[0m\u001b[1;33m\u001b[0m\u001b[0m\n\u001b[0m",
      "\u001b[1;32m/groups/turaga/home/singhc/anaconda/lib/python2.7/multiprocessing/pool.pyc\u001b[0m in \u001b[0;36mmap\u001b[1;34m(self, func, iterable, chunksize)\u001b[0m\n\u001b[0;32m    249\u001b[0m         '''\n\u001b[0;32m    250\u001b[0m         \u001b[1;32massert\u001b[0m \u001b[0mself\u001b[0m\u001b[1;33m.\u001b[0m\u001b[0m_state\u001b[0m \u001b[1;33m==\u001b[0m \u001b[0mRUN\u001b[0m\u001b[1;33m\u001b[0m\u001b[0m\n\u001b[1;32m--> 251\u001b[1;33m         \u001b[1;32mreturn\u001b[0m \u001b[0mself\u001b[0m\u001b[1;33m.\u001b[0m\u001b[0mmap_async\u001b[0m\u001b[1;33m(\u001b[0m\u001b[0mfunc\u001b[0m\u001b[1;33m,\u001b[0m \u001b[0miterable\u001b[0m\u001b[1;33m,\u001b[0m \u001b[0mchunksize\u001b[0m\u001b[1;33m)\u001b[0m\u001b[1;33m.\u001b[0m\u001b[0mget\u001b[0m\u001b[1;33m(\u001b[0m\u001b[1;33m)\u001b[0m\u001b[1;33m\u001b[0m\u001b[0m\n\u001b[0m\u001b[0;32m    252\u001b[0m \u001b[1;33m\u001b[0m\u001b[0m\n\u001b[0;32m    253\u001b[0m     \u001b[1;32mdef\u001b[0m \u001b[0mimap\u001b[0m\u001b[1;33m(\u001b[0m\u001b[0mself\u001b[0m\u001b[1;33m,\u001b[0m \u001b[0mfunc\u001b[0m\u001b[1;33m,\u001b[0m \u001b[0miterable\u001b[0m\u001b[1;33m,\u001b[0m \u001b[0mchunksize\u001b[0m\u001b[1;33m=\u001b[0m\u001b[1;36m1\u001b[0m\u001b[1;33m)\u001b[0m\u001b[1;33m:\u001b[0m\u001b[1;33m\u001b[0m\u001b[0m\n",
      "\u001b[1;32m/groups/turaga/home/singhc/anaconda/lib/python2.7/multiprocessing/pool.pyc\u001b[0m in \u001b[0;36mget\u001b[1;34m(self, timeout)\u001b[0m\n\u001b[0;32m    565\u001b[0m             \u001b[1;32mreturn\u001b[0m \u001b[0mself\u001b[0m\u001b[1;33m.\u001b[0m\u001b[0m_value\u001b[0m\u001b[1;33m\u001b[0m\u001b[0m\n\u001b[0;32m    566\u001b[0m         \u001b[1;32melse\u001b[0m\u001b[1;33m:\u001b[0m\u001b[1;33m\u001b[0m\u001b[0m\n\u001b[1;32m--> 567\u001b[1;33m             \u001b[1;32mraise\u001b[0m \u001b[0mself\u001b[0m\u001b[1;33m.\u001b[0m\u001b[0m_value\u001b[0m\u001b[1;33m\u001b[0m\u001b[0m\n\u001b[0m\u001b[0;32m    568\u001b[0m \u001b[1;33m\u001b[0m\u001b[0m\n\u001b[0;32m    569\u001b[0m     \u001b[1;32mdef\u001b[0m \u001b[0m_set\u001b[0m\u001b[1;33m(\u001b[0m\u001b[0mself\u001b[0m\u001b[1;33m,\u001b[0m \u001b[0mi\u001b[0m\u001b[1;33m,\u001b[0m \u001b[0mobj\u001b[0m\u001b[1;33m)\u001b[0m\u001b[1;33m:\u001b[0m\u001b[1;33m\u001b[0m\u001b[0m\n",
      "\u001b[1;31mIOError\u001b[0m: Unable to create file (Unable to truncate a file which is already open)"
     ]
    }
   ],
   "source": [
    "p = Pool(NUM_WORKERS)\n",
    "p.map(zwshed_h5_par, args)"
   ]
  },
  {
   "cell_type": "markdown",
   "metadata": {},
   "source": [
    "# Stitch"
   ]
  },
  {
   "cell_type": "code",
   "execution_count": 16,
   "metadata": {
    "collapsed": false
   },
   "outputs": [
    {
     "name": "stdout",
     "output_type": "stream",
     "text": [
      "\tx,y,z 0 0 0\n",
      "\tshapes (125, 313, 1250) (125, 313, 313)\n",
      "merging numbers, 0 keys ... \n",
      "\tnsegs before 1410\n",
      "\tnsegs after 1410\n",
      "\trenumbering all... 1409\n",
      "\tnum segs 1409\n",
      "\tx,y,z 0 1 0\n",
      "\tshapes (125, 313, 1250) (125, 313, 313)\n",
      "merging numbers, 0 keys ... \n",
      "\tnsegs before 2064\n",
      "\tnsegs after 2064\n",
      "\trenumbering all... 2063\n",
      "\tnum segs 2063\n",
      "\tx,y,z 0 2 0\n",
      "\tshapes (125, 313, 1250) (125, 313, 313)\n",
      "merging numbers, 0 keys ... \n",
      "\tnsegs before 1876\n",
      "\tnsegs after 1876\n",
      "\trenumbering all... 1875\n",
      "\tnum segs 1875\n",
      "merging numbers, 657 keys ... \n",
      "\tnsegs before 5348\n",
      "\tnsegs after 4691\n",
      "\trenumbering all... 5347\n",
      "\tnum segs 4690\n"
     ]
    },
    {
     "name": "stderr",
     "output_type": "stream",
     "text": [
      "/groups/turaga/home/singhc/anaconda/lib/python2.7/site-packages/ipykernel/__main__.py:26: DeprecationWarning: using a non-integer number instead of an integer will result in an error in the future\n",
      "/groups/turaga/home/singhc/anaconda/lib/python2.7/site-packages/ipykernel/__main__.py:27: DeprecationWarning: assignment will raise an error in the future, most likely because your index result shape does not match the value array shape. You can use `arr.flat[index] = values` to keep the old behaviour.\n"
     ]
    },
    {
     "data": {
      "image/png": "[encoded data removed]",
      "text/plain": [
       "<matplotlib.figure.Figure at 0x7fbe51a6ebd0>"
      ]
     },
     "metadata": {},
     "output_type": "display_data"
    }
   ],
   "source": [
    "# todo - have this support several threshes - for filename in os.listdir(arg[2]):\n",
    "i = 0\n",
    "for x in range(1): #num_vols[0]):\n",
    "    i = x*num_vols[0]*num_vols[1]\n",
    "    xdim = deltas[0]+1\n",
    "    if x==num_vols[0]-1:\n",
    "        xdim = dims[0]-deltas[0]*(num_vols[0]-1)\n",
    "    ybar = np.zeros((xdim,dims[1],dims[2]),dtype='uint64')\n",
    "    re_y = {}\n",
    "    for y in range(3): #num_vols[1]):\n",
    "        i = x*num_vols[0]*num_vols[1]+y*num_vols[1]\n",
    "        ydim = deltas[1]+1\n",
    "        if y==num_vols[1]-1:\n",
    "            ydim = dims[1]-deltas[1]*(num_vols[1]-1)\n",
    "        zbar = np.zeros((xdim,ydim,dims[2]),dtype='uint64')\n",
    "        re_z = {} # maxes -> mins\n",
    "        sy,ey = starts[i], ends[i]\n",
    "        for z in range(1): #num_vols[2]):  # merge along z axis - fills in zbar\n",
    "            i = x*num_vols[0]*num_vols[1]+y*num_vols[1]+z\n",
    "            arg,s,e = args[i],starts[i],ends[i]\n",
    "            filename = 'seg_2000.h5'\n",
    "            seg_h5 = h5py.File(arg[2]+filename,'r')\n",
    "            seg = seg_h5['main']+np.max(zbar)\n",
    "            print \"\\tx,y,z\",x,y,z\n",
    "            print \"\\tshapes\",zbar.shape,seg.shape\n",
    "            if z==0: # don't merge\n",
    "                zbar[:,:,s[2]:e[2]] = seg[:,:,:]\n",
    "            else: # merge\n",
    "                edge_mins = zbar[:,:,s[2]].flatten()\n",
    "                edge_maxes = seg[:,:,0].flatten()                \n",
    "                re_z = calc_renums(edge_mins,edge_maxes, re_z)\n",
    "                zbar[:,:,s[2]:e[2]] = seg[:,:,:]\n",
    "        zbar = merge_and_renum(re_z,zbar)\n",
    "        zbars[y]=zbar\n",
    "        zbar = zbars[y]\n",
    "        zbar = zbar+np.max(ybar)\n",
    "        if y==0: # don't merge\n",
    "            ybar[:,sy[1]:ey[1],:] = zbar[:,:,:]\n",
    "        else: # merge\n",
    "            edge_mins = ybar[:,s[1],:].flatten()\n",
    "            edge_maxes = zbar[:,0,:].flatten()\n",
    "            re_y = calc_renums(edge_mins,edge_maxes, re_y)\n",
    "            ybar[:,sy[1]:ey[1],:] = zbar[:,:,:]\n",
    "    ybar = merge_and_renum(re_y,ybar)\n",
    "    display_seg_yz(ybar,1)\n",
    "\n",
    "seg_out = np.zeros(dims,dtype='uint64') # x,y,z   "
   ]
  },
  {
   "cell_type": "code",
   "execution_count": 15,
   "metadata": {
    "collapsed": true
   },
   "outputs": [],
   "source": [
    "def calc_renums(edge_mins,edge_maxes, renums):\n",
    "    for j in range(len(edge_mins)):\n",
    "        edge_min = edge_mins[j]\n",
    "        edge_max = edge_maxes[j]\n",
    "        if not edge_max==edge_min:\n",
    "\n",
    "#                         if edge_max in renums: # already in map\n",
    "#                             old_min = renums[edge_max]\n",
    "#                             merge_max = max(old_min,edge_min)\n",
    "#                             merge_min = min(old_min,edge_min)\n",
    "#                             if not merge_max==merge_min:\n",
    "#                                 renums[merge_max] = merge_min  \n",
    "\n",
    "            renums[edge_max] = edge_min\n",
    "    return renums\n",
    "    \n",
    "def merge_and_renum(renums,zbar):\n",
    "    # merge numbers\n",
    "    renums2 = {}\n",
    "    print \"merging numbers,\",len(renums.keys()),\"keys ... \"            \n",
    "    for key in renums:\n",
    "        val = renums[key]\n",
    "        while val in renums:\n",
    "            val = renums[val]\n",
    "        renums2[key] = val\n",
    "\n",
    "    print \"\\tnsegs before\",len(np.unique(zbar))\n",
    "#     display_seg_yz(zbar,1)\n",
    "    mp = np.arange(0,np.max(zbar)+1,dtype='uint64')\n",
    "    mp[renums2.keys()] = renums2.values()\n",
    "    zbar = mp[zbar]\n",
    "    print \"\\tnsegs after\",len(np.unique(zbar))\n",
    "#         display_seg_yz(zbar,1)\n",
    "\n",
    "    # renumber all\n",
    "    print \"\\trenumbering all...\",np.max(zbar)\n",
    "    zbar,seg_sizes = prune_and_renum(zbar,0)\n",
    "    print \"\\tnum segs\",np.max(zbar)\n",
    "#     display_seg_yz(zbar,1)\n",
    "    return zbar"
   ]
  },
  {
   "cell_type": "markdown",
   "metadata": {},
   "source": [
    "# Visualize"
   ]
  },
  {
   "cell_type": "code",
   "execution_count": 18,
   "metadata": {
    "collapsed": false
   },
   "outputs": [],
   "source": [
    "def display_affs(raw, label, seg):\n",
    "    fig = plt.figure(figsize=(20, 10))\n",
    "    fig.set_facecolor('white')\n",
    "    ax1, ax2, ax3 = fig.add_subplot(1, 3, 1), fig.add_subplot(1, 3, 2), fig.add_subplot(1, 3, 3)\n",
    "    fig.subplots_adjust(left=0.2, bottom=0.25)\n",
    "    ax1.imshow(np.transpose(raw[:, :, :, 1],(2,1,0)))\n",
    "    ax1.set_title('Raw')\n",
    "    plt.show()\n",
    "def display_seg_yz(raw,depth=1):\n",
    "    fig = plt.figure(figsize=(20, 10))\n",
    "    ax1 = fig.add_subplot(1, 1, 1)\n",
    "    fig.subplots_adjust(left=0.2, bottom=0.25)\n",
    "    ax1.imshow(raw[depth, :, :], cmap=cmap)\n",
    "    plt.show()\n",
    "def display_seg_xy(raw,depth=1):\n",
    "    fig = plt.figure(figsize=(20, 10))\n",
    "    ax1 = fig.add_subplot(1, 1, 1)\n",
    "    fig.subplots_adjust(left=0.2, bottom=0.25)\n",
    "    ax1.imshow(raw[:, :, depth], cmap=cmap)\n",
    "    plt.show()\n",
    "def prune_and_renum(seg,sizeThreshold=1):\n",
    "    segId,segSizes = np.unique(seg, return_counts=True)\n",
    "    renum = np.zeros(segId.max()+1,dtype=np.int32)\n",
    "    renum[segId] = np.arange(0,len(segId)+1)\n",
    "    if sizeThreshold>0:\n",
    "        renum[segId[segSizes<=sizeThreshold]] = 0\n",
    "        segSizes = segSizes[segSizes>sizeThreshold]\n",
    "    seg = renum[seg]\n",
    "    return (seg, segSizes)"
   ]
  }
 ],
 "metadata": {
  "kernelspec": {
   "display_name": "Python 2",
   "language": "python",
   "name": "python2"
  },
  "language_info": {
   "codemirror_mode": {
    "name": "ipython",
    "version": 2
   },
   "file_extension": ".py",
   "mimetype": "text/x-python",
   "name": "python",
   "nbconvert_exporter": "python",
   "pygments_lexer": "ipython2",
   "version": "2.7.11"
  }
 },
 "nbformat": 4,
 "nbformat_minor": 0
}
