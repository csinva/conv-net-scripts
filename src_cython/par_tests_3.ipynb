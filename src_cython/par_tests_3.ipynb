{
 "cells": [
  {
   "cell_type": "code",
   "execution_count": 83,
   "metadata": {
    "collapsed": false
   },
   "outputs": [
    {
     "name": "stdout",
     "output_type": "stream",
     "text": [
      "(3, 432, 432, 432)\n"
     ]
    }
   ],
   "source": [
    "import numpy as np\n",
    "import sys\n",
    "import time\n",
    "import os\n",
    "import h5py\n",
    "import os.path as op\n",
    "import matplotlib.cm as cm\n",
    "from matplotlib.widgets import Slider, Button, RadioButtons\n",
    "import matplotlib.pyplot as plt\n",
    "import array\n",
    "%matplotlib inline\n",
    "sys.path.append('..')\n",
    "from zwatershed import *\n",
    "from visualization.visualize_funcs import *\n",
    "from edgelist_methods import *\n",
    "path_to_folder = '/Users/chandansingh/drive/janelia/conv_net_scripts/'\n",
    "path_to_data = path_to_folder + 'data/'\n",
    "from multiprocessing import Pool\n",
    "\n",
    "# -------------------------------- parameters ---------------------------------------\n",
    "gt_seg = '/groups/turaga/home/turagas/data/FlyEM/fibsem_medulla_7col/tstvol-520-1-h5/groundtruth_seg_thick.h5'\n",
    "gt_aff = '/groups/turaga/home/turagas/data/FlyEM/fibsem_medulla_7col/tstvol-520-1-h5/groundtruth_aff.h5'\n",
    "# pred_file = '/groups/turaga/home/turagas/research/caffe_v2/processed/bock2/120000/sample_A_x1_y1_z1_xy1.h5'\n",
    "# pred_file_2 = '/groups/turaga/home/turagas/research/caffe_v2/processed/bock2/120000/cutout_3k.h5'\n",
    "pred_file = '/groups/turaga/home/turagas/turagalab/FROM_TIER2/singhc/train/output_200000/tstvol-1_2.h5'\n",
    "\n",
    "out_folder = '/nobackup/turaga/singhc/par_zwshed_3/'\n",
    "threshes = [2000]\n",
    "cmap = matplotlib.colors.ListedColormap(np.vstack(((0, 0, 0), np.random.rand(255, 3))))\n",
    "NUM_WORKERS = 16\n",
    "MAX_LEN = 200\n",
    "\n",
    "# -------------------------------- load data ---------------------------------------\n",
    "f = h5py.File(pred_file, 'r')\n",
    "preds = np.array(f['main']).astype('float32')\n",
    "g = h5py.File(gt_seg,'r')\n",
    "gt_seg = g['main']\n",
    "print preds.shape"
   ]
  },
  {
   "cell_type": "markdown",
   "metadata": {},
   "source": [
    "# Divide Volumes, set up args"
   ]
  },
  {
   "cell_type": "code",
   "execution_count": 84,
   "metadata": {
    "collapsed": false
   },
   "outputs": [
    {
     "name": "stdout",
     "output_type": "stream",
     "text": [
      "dims [432 432 432]\n",
      "num_vols [3 3 3]\n",
      "deltas [144 144 144]\n",
      "0 [0 0 0] [148 148 148] (3, 148, 148, 148)\n",
      "1 [  0   0 141] [148 148 292] (3, 148, 148, 151)\n",
      "2 [  0   0 285] [148 148 439] (3, 148, 148, 147)\n",
      "3 [  0 141   0] [148 292 148] (3, 148, 151, 148)\n",
      "4 [  0 141 141] [148 292 292] (3, 148, 151, 151)\n",
      "5 [  0 141 285] [148 292 439] (3, 148, 151, 147)\n",
      "6 [  0 285   0] [148 439 148] (3, 148, 147, 148)\n",
      "7 [  0 285 141] [148 439 292] (3, 148, 147, 151)\n",
      "8 [  0 285 285] [148 439 439] (3, 148, 147, 147)\n",
      "9 [141   0   0] [292 148 148] (3, 151, 148, 148)\n",
      "10 [141   0 141] [292 148 292] (3, 151, 148, 151)\n",
      "11 [141   0 285] [292 148 439] (3, 151, 148, 147)\n",
      "12 [141 141   0] [292 292 148] (3, 151, 151, 148)\n",
      "13 [141 141 141] [292 292 292] (3, 151, 151, 151)\n",
      "14 [141 141 285] [292 292 439] (3, 151, 151, 147)\n",
      "15 [141 285   0] [292 439 148] (3, 151, 147, 148)\n",
      "16 [141 285 141] [292 439 292] (3, 151, 147, 151)\n",
      "17 [141 285 285] [292 439 439] (3, 151, 147, 147)\n",
      "18 [285   0   0] [439 148 148] (3, 147, 148, 148)\n",
      "19 [285   0 141] [439 148 292] (3, 147, 148, 151)\n",
      "20 [285   0 285] [439 148 439] (3, 147, 148, 147)\n",
      "21 [285 141   0] [439 292 148] (3, 147, 151, 148)\n",
      "22 [285 141 141] [439 292 292] (3, 147, 151, 151)\n",
      "23 [285 141 285] [439 292 439] (3, 147, 151, 147)\n",
      "24 [285 285   0] [439 439 148] (3, 147, 147, 148)\n",
      "25 [285 285 141] [439 439 292] (3, 147, 147, 151)\n",
      "26 [285 285 285] [439 439 439] (3, 147, 147, 147)\n"
     ]
    }
   ],
   "source": [
    "def dim_to_name(start):\n",
    "    return str(start[0])+'_'+str(start[1])+'_'+str(start[2])+'_vll/'\n",
    "dims = np.array(preds.shape[1:])\n",
    "print \"dims\",dims # x,y,z\n",
    "num_vols = np.array([int(x/MAX_LEN)+1 for x in dims])\n",
    "# num_vols[0] = 2 # delete this!\n",
    "deltas = dims/num_vols\n",
    "print \"num_vols\",num_vols\n",
    "print \"deltas\",deltas\n",
    "starts,ends = [],[]\n",
    "for x in range(num_vols[0]):\n",
    "    for y in range(num_vols[1]):\n",
    "        for z in range(num_vols[2]):\n",
    "            starts.append((x,y,z)*deltas - [3,3,3] +3*np.array([x==0,y==0,z==0]))\n",
    "            extra = 3*np.array([x==num_vols[0]-1,y==num_vols[1]-1,z==num_vols[2]-1],dtype='int')\n",
    "            ends.append((x,y,z)*deltas + deltas + [1,1,1]+extra +[3,3,3])\n",
    "args = []\n",
    "for i in range(len(starts)):\n",
    "    s,e = starts[i],ends[i]\n",
    "    pred_vol = preds[:,s[0]:e[0],s[1]:e[1],s[2]:e[2]]\n",
    "    print i,s,e,pred_vol.shape\n",
    "    args.append((pred_vol,out_folder+dim_to_name(s)))    "
   ]
  },
  {
   "cell_type": "markdown",
   "metadata": {},
   "source": [
    "# Call Watershed"
   ]
  },
  {
   "cell_type": "code",
   "execution_count": 85,
   "metadata": {
    "collapsed": false
   },
   "outputs": [
    {
     "name": "stdout",
     "output_type": "stream",
     "text": [
      "finished /nobackup/turaga/singhc/par_zwshed_3/0_0_0_vll/ watershed\n",
      "finished /nobackup/turaga/singhc/par_zwshed_3/0_0_141_vll/ watershed\n",
      "finished /nobackup/turaga/singhc/par_zwshed_3/0_0_285_vll/ watershed\n",
      "finished /nobackup/turaga/singhc/par_zwshed_3/0_141_0_vll/ watershed\n",
      "finished /nobackup/turaga/singhc/par_zwshed_3/0_141_285_vll/ watershed\n",
      "finished /nobackup/turaga/singhc/par_zwshed_3/0_141_141_vll/ watershed\n",
      "finished /nobackup/turaga/singhc/par_zwshed_3/0_285_0_vll/ watershed\n",
      "finished /nobackup/turaga/singhc/par_zwshed_3/0_285_141_vll/ watershed\n",
      "finished /nobackup/turaga/singhc/par_zwshed_3/0_285_285_vll/ watershed\n",
      "finished /nobackup/turaga/singhc/par_zwshed_3/141_0_141_vll/ watershed\n",
      "finished /nobackup/turaga/singhc/par_zwshed_3/141_0_285_vll/ watershed\n",
      "finished /nobackup/turaga/singhc/par_zwshed_3/141_0_0_vll/ watershed\n",
      "finished /nobackup/turaga/singhc/par_zwshed_3/141_141_0_vll/ watershed\n",
      "finished /nobackup/turaga/singhc/par_zwshed_3/141_141_141_vll/ watershed\n",
      "finished /nobackup/turaga/singhc/par_zwshed_3/141_141_285_vll/ watershed\n",
      "finished /nobackup/turaga/singhc/par_zwshed_3/141_285_0_vll/ watershed\n",
      "finishedfinishedfinishedfinishedfinishedfinishedfinishedfinishedfinishedfinishedfinished /nobackup/turaga/singhc/par_zwshed_3/141_285_141_vll/ watershed\n",
      " /nobackup/turaga/singhc/par_zwshed_3/141_285_285_vll/ watershed\n",
      " /nobackup/turaga/singhc/par_zwshed_3/285_0_0_vll/ watershed\n",
      " /nobackup/turaga/singhc/par_zwshed_3/285_0_141_vll/ watershed\n",
      " /nobackup/turaga/singhc/par_zwshed_3/285_0_285_vll/ watershed\n",
      " /nobackup/turaga/singhc/par_zwshed_3/285_141_0_vll/ watershed\n",
      " /nobackup/turaga/singhc/par_zwshed_3/285_141_141_vll/ watershed\n",
      " /nobackup/turaga/singhc/par_zwshed_3/285_141_285_vll/ watershed\n",
      " /nobackup/turaga/singhc/par_zwshed_3/285_285_0_vll/ watershed\n",
      " /nobackup/turaga/singhc/par_zwshed_3/285_285_141_vll/ watershed\n",
      " /nobackup/turaga/singhc/par_zwshed_3/285_285_285_vll/ watershed\n"
     ]
    },
    {
     "data": {
      "text/plain": [
       "[None,\n",
       " None,\n",
       " None,\n",
       " None,\n",
       " None,\n",
       " None,\n",
       " None,\n",
       " None,\n",
       " None,\n",
       " None,\n",
       " None,\n",
       " None,\n",
       " None,\n",
       " None,\n",
       " None,\n",
       " None,\n",
       " None,\n",
       " None,\n",
       " None,\n",
       " None,\n",
       " None,\n",
       " None,\n",
       " None,\n",
       " None,\n",
       " None,\n",
       " None,\n",
       " None]"
      ]
     },
     "execution_count": 85,
     "metadata": {},
     "output_type": "execute_result"
    }
   ],
   "source": [
    "def zwshed_h5_par(arg):\n",
    "    (pred_vol,seg_save_path) = arg\n",
    "    zwatershed_basic_h5(pred_vol,seg_save_path)\n",
    "    print \"finished\",seg_save_path,\"watershed\"\n",
    "p = Pool(NUM_WORKERS)\n",
    "p.map(zwshed_h5_par, args)\n",
    "# zwshed_h5_par(args[0])"
   ]
  },
  {
   "cell_type": "markdown",
   "metadata": {},
   "source": [
    "# Stitch"
   ]
  },
  {
   "cell_type": "code",
   "execution_count": 163,
   "metadata": {
    "collapsed": false,
    "scrolled": false
   },
   "outputs": [
    {
     "name": "stdout",
     "output_type": "stream",
     "text": [
      "i,x,y,z 0 0 0 0\n",
      "i,x,y,z 1 0 0 1\n",
      "\tmerging numbers, 183 keys ... \n",
      "\tbefore nsegs= 26638 num0= 3116661\n",
      "\tafter nsegs="
     ]
    },
    {
     "name": "stderr",
     "output_type": "stream",
     "text": [
      "/groups/turaga/home/singhc/anaconda/lib/python2.7/site-packages/ipykernel/__main__.py:42: DeprecationWarning: Implicitly casting between incompatible kinds. In a future numpy release, this will raise an error. Use casting=\"unsafe\" if this is intentional.\n",
      "/groups/turaga/home/singhc/anaconda/lib/python2.7/site-packages/ipykernel/__main__.py:25: DeprecationWarning: using a non-integer number instead of an integer will result in an error in the future\n"
     ]
    },
    {
     "name": "stdout",
     "output_type": "stream",
     "text": [
      " 26604 num0= 3116661\n",
      "\trenumbering all... 26604 num0= 3116661\n",
      "\tmerging numbers, 0 keys ... \n",
      "\tbefore nsegs= 26604 num0= 21274485\n",
      "\tafter nsegs= 26604 num0= 21274485\n"
     ]
    },
    {
     "name": "stderr",
     "output_type": "stream",
     "text": [
      "/groups/turaga/home/singhc/anaconda/lib/python2.7/site-packages/ipykernel/__main__.py:51: DeprecationWarning: Implicitly casting between incompatible kinds. In a future numpy release, this will raise an error. Use casting=\"unsafe\" if this is intentional.\n"
     ]
    },
    {
     "data": {
      "image/png": "[encoded data removed]",
      "text/plain": [
       "<matplotlib.figure.Figure at 0x7f98944851d0>"
      ]
     },
     "metadata": {},
     "output_type": "display_data"
    },
    {
     "name": "stdout",
     "output_type": "stream",
     "text": [
      "\trenumbering all... 26604 num0= 21274485\n"
     ]
    },
    {
     "data": {
      "image/png": "[encoded data removed]",
      "text/plain": [
       "<matplotlib.figure.Figure at 0x7f987ef1e190>"
      ]
     },
     "metadata": {},
     "output_type": "display_data"
    },
    {
     "ename": "TypeError",
     "evalue": "'tuple' object does not support item assignment",
     "output_type": "error",
     "traceback": [
      "\u001b[1;31m---------------------------------------------------------------------------\u001b[0m",
      "\u001b[1;31mTypeError\u001b[0m                                 Traceback (most recent call last)",
      "\u001b[1;32m<ipython-input-163-7d88301dc4cb>\u001b[0m in \u001b[0;36m<module>\u001b[1;34m()\u001b[0m\n\u001b[0;32m     56\u001b[0m         \u001b[0mybar\u001b[0m\u001b[1;33m[\u001b[0m\u001b[1;33m:\u001b[0m\u001b[1;33m,\u001b[0m\u001b[0msy\u001b[0m\u001b[1;33m[\u001b[0m\u001b[1;36m1\u001b[0m\u001b[1;33m]\u001b[0m\u001b[1;33m:\u001b[0m\u001b[0mey\u001b[0m\u001b[1;33m[\u001b[0m\u001b[1;36m1\u001b[0m\u001b[1;33m]\u001b[0m\u001b[1;33m,\u001b[0m\u001b[1;33m:\u001b[0m\u001b[1;33m]\u001b[0m \u001b[1;33m=\u001b[0m \u001b[0mzbar\u001b[0m\u001b[1;33m[\u001b[0m\u001b[1;33m:\u001b[0m\u001b[1;33m,\u001b[0m\u001b[1;33m:\u001b[0m\u001b[1;33m,\u001b[0m\u001b[1;33m:\u001b[0m\u001b[1;33m]\u001b[0m\u001b[1;33m\u001b[0m\u001b[0m\n\u001b[0;32m     57\u001b[0m     \u001b[0mybar\u001b[0m \u001b[1;33m=\u001b[0m \u001b[0mmerge_and_renum\u001b[0m\u001b[1;33m(\u001b[0m\u001b[0mre_y\u001b[0m\u001b[1;33m,\u001b[0m\u001b[0mybar\u001b[0m\u001b[1;33m,\u001b[0m\u001b[0mrg_full\u001b[0m\u001b[1;33m,\u001b[0m\u001b[0minc\u001b[0m\u001b[1;33m=\u001b[0m\u001b[0mFalse\u001b[0m\u001b[1;33m,\u001b[0m\u001b[0mp\u001b[0m\u001b[1;33m=\u001b[0m\u001b[0mTrue\u001b[0m\u001b[1;33m,\u001b[0m\u001b[0mcounts\u001b[0m\u001b[1;33m=\u001b[0m\u001b[0mcounts_y\u001b[0m\u001b[1;33m)\u001b[0m\u001b[1;33m\u001b[0m\u001b[0m\n\u001b[1;32m---> 58\u001b[1;33m     \u001b[0mybar\u001b[0m\u001b[1;33m[\u001b[0m\u001b[0mybar\u001b[0m\u001b[1;33m!=\u001b[0m\u001b[1;36m0\u001b[0m\u001b[1;33m]\u001b[0m \u001b[1;33m+=\u001b[0m \u001b[0mnp\u001b[0m\u001b[1;33m.\u001b[0m\u001b[0mmax\u001b[0m\u001b[1;33m(\u001b[0m\u001b[0mseg_out\u001b[0m\u001b[1;33m)\u001b[0m\u001b[1;33m+\u001b[0m\u001b[1;36m1\u001b[0m\u001b[1;33m\u001b[0m\u001b[0m\n\u001b[0m\u001b[0;32m     59\u001b[0m \u001b[1;33m\u001b[0m\u001b[0m\n\u001b[0;32m     60\u001b[0m     \u001b[1;31m# end ybar -------------------------------------------------------\u001b[0m\u001b[1;33m\u001b[0m\u001b[1;33m\u001b[0m\u001b[0m\n",
      "\u001b[1;31mTypeError\u001b[0m: 'tuple' object does not support item assignment"
     ]
    }
   ],
   "source": [
    "# todo - have this support several threshes - for filename in os.listdir(arg[2]):\n",
    "COUNT_THRESH = 0\n",
    "filename = 'basic.h5'\n",
    "i = 0\n",
    "seg_out = np.zeros(dims,dtype='uint64')\n",
    "counts_x = {}\n",
    "rg_fulls, rg_counts_fulls = {},{}\n",
    "X,Y,Z = (1,1,1)\n",
    "\n",
    "for x in range(X): #num_vols[0]):\n",
    "    i = x*num_vols[1]*num_vols[2]\n",
    "    sx,ex,re_x = starts[i],ends[i],{}\n",
    "    \n",
    "    # start ybar --------------------------------------------------\n",
    "    xdim = deltas[0]+7\n",
    "    if x==0:\n",
    "        xdim = deltas[0]+4\n",
    "    if x==num_vols[0]-1:\n",
    "        xdim = dims[0]-deltas[0]*(num_vols[0]-1)\n",
    "    ybar = np.zeros((xdim,dims[1],dims[2]),dtype='uint64')\n",
    "    counts_y = {}\n",
    "    for y in range(Y): #num_vols[1]):\n",
    "        iy = x*num_vols[1]*num_vols[2]+y*num_vols[2]\n",
    "        sy,ey,re_y = starts[iy], ends[iy], {}\n",
    "        \n",
    "        # start zbar -----------------------------------------------\n",
    "        ydim = deltas[1]+7\n",
    "        if y==0:\n",
    "            ydim = deltas[1]+4\n",
    "        if y==num_vols[1]-1:\n",
    "            ydim = dims[1]-deltas[1]*(num_vols[1]-1)\n",
    "        zbar = np.zeros((xdim,ydim,dims[2]),dtype='uint64')\n",
    "        \n",
    "        counts_z = {}\n",
    "        for z in range(Z): #num_vols[2]): \n",
    "            i = x*num_vols[1]*num_vols[2]+y*num_vols[2]+z\n",
    "            arg,s,e,re_z = args[i],starts[i],ends[i],{}\n",
    "            basic_file = h5py.File(arg[1]+filename,'r')\n",
    "            seg = np.array(basic_file['seg'])\n",
    "            rg = np.array(basic_file['rg'])\n",
    "            rg_counts = np.array(basic_file['counts'])\n",
    "            inc = np.max(zbar)+1\n",
    "            seg[seg!=0]+=inc\n",
    "            rg[:,:2] += inc\n",
    "            rg_fulls[i] = rg\n",
    "            rg_counts_fulls[i]=rg_counts\n",
    "            print \"i,x,y,z\",i,x,y,z\n",
    "            if not z==0:\n",
    "                re_z = calc_renums(edge_mins=zbar[:,:,s[2]+3],edge_maxes=seg[:,:,3], re=re_z, counts=counts_z)\n",
    "            zbar[:,:,s[2]:e[2]] = seg[:,:,:]\n",
    "        zbar,rg_fulls,rg_counts = merge_and_renum(re_z,zbar,rg_fulls,rg_counts,range(iy,iy+Z),inc=False,p=False,counts=counts_z)\n",
    "        zbar[zbar!=0] += np.max(ybar)+1\n",
    "        # end zbar --------------------------------------------------    \n",
    "'''        \n",
    "        if not y==0: \n",
    "            re_y = calc_renums(edge_mins=ybar[0:,s[1]+3,:],edge_maxes=zbar[0:,3,:], re=re_y, counts=counts_y)\n",
    "        ybar[:,sy[1]:ey[1],:] = zbar[:,:,:]\n",
    "    ybar = merge_and_renum(re_y,ybar,rg_full,inc=False,p=True,counts=counts_y)\n",
    "    ybar[ybar!=0] += np.max(seg_out)+1\n",
    "\n",
    "    # end ybar -------------------------------------------------------\n",
    "    if not x==0:\n",
    "        re_x = calc_renums(edge_mins=seg_out[sx[0]+3,:,:],edge_maxes=ybar[3,:,:],re=re_x, counts=counts_x)\n",
    "    seg_out[sx[0]:ex[0],:,:] = ybar[:,:,:]\n",
    "    seg_out = merge_and_renum(re_x,seg_out,rg_full,inc=False,p=False,counts=counts_x)\n",
    "\n",
    "print \"finished\"\n",
    "# display_seg_xy(seg_out)\n",
    "\n",
    "'''"
   ]
  },
  {
   "cell_type": "code",
   "execution_count": 162,
   "metadata": {
    "collapsed": false
   },
   "outputs": [],
   "source": [
    "# stitch methods\n",
    "def calc_renums(edge_mins,edge_maxes, re, counts={}):\n",
    "    edge_mins = edge_mins.ravel()\n",
    "    edge_maxes = edge_maxes.ravel()\n",
    "#     print \"edge_mins\",edge_mins\n",
    "#     print \"edge_maxes\",edge_maxes\n",
    "    for j in range(len(edge_mins)):\n",
    "        edge_min = edge_mins[j]\n",
    "        edge_max = edge_maxes[j]\n",
    "        if not edge_min==0 and not edge_max==0:\n",
    "            if not edge_max==edge_min:\n",
    "                if edge_max in re: # already in map\n",
    "                    old_min = re[edge_max]\n",
    "                    merge_max = max(old_min,edge_min)\n",
    "                    merge_min = min(old_min,edge_min)\n",
    "                    if not merge_max==merge_min:\n",
    "                        re[merge_max] = merge_min\n",
    "                        add_or_inc(merge_max,merge_min,counts)\n",
    "            re[edge_max] = edge_min\n",
    "            add_or_inc(edge_max,edge_min,counts)\n",
    "    return re\n",
    "    \n",
    "def prune_and_renum(seg,sizeThreshold=1):\n",
    "    segId = np.unique(seg)\n",
    "    renum = np.zeros(segId.max()+1,dtype=np.uint64)\n",
    "    renum[segId] = np.arange(1,len(segId)+1)\n",
    "    renum[0]=0\n",
    "    return renum[seg]\n",
    "\n",
    "def add_or_inc(key_max,key_min,d):\n",
    "    key = (key_max,key_min)\n",
    "    if not key in d:\n",
    "        d[key] = 1\n",
    "    else:\n",
    "        d[key] +=1\n",
    "    \n",
    "def merge_and_renum(renums,zbar,rg_fulls,rg_counts,rg_indexes,inc=True,p=False,counts={}):\n",
    "    \n",
    "    # only keep strongest edges\n",
    "    renums = {}\n",
    "    count_maxes = {}\n",
    "    for pair in counts:\n",
    "        count = counts[pair]\n",
    "        e1,e2 = pair\n",
    "        if e1 in renums:\n",
    "            if count > count_maxes[e1]:\n",
    "                renums[e1] = e2\n",
    "                count_maxes[e1] = count\n",
    "        else:\n",
    "            renums[e1] = e2\n",
    "            count_maxes[e1] = count\n",
    "    \n",
    "    # merge numbers\n",
    "    sum_counts = 0\n",
    "    for key in counts:\n",
    "        sum_counts += counts[key]\n",
    "    renums2 = {}\n",
    "    print \"\\tmerging numbers,\",len(renums.keys()),\"keys ... \"            \n",
    "    for key in renums:\n",
    "        val = renums[key]\n",
    "        if counts[(key,val)] > COUNT_THRESH:\n",
    "            while val in renums:\n",
    "                val = renums[val]\n",
    "            renums2[key] = val\n",
    "            \n",
    "    print \"\\tbefore nsegs=\",len(np.unique(zbar)),\"num0=\",np.sum(zbar==0)\n",
    "    if p:\n",
    "        fig = plt.figure(figsize=(15, 7))\n",
    "        plt.subplot(1,2,1)\n",
    "        plt.imshow(zbar[0, :, :], cmap=cmap)\n",
    "    \n",
    "    mp = np.arange(0,np.max(zbar)+1,dtype='uint64')\n",
    "    mp[renums2.keys()] = renums2.values()\n",
    "    zbar = mp[zbar]\n",
    "    print \"\\tafter nsegs=\",len(np.unique(zbar)),\"num0=\",np.sum(zbar==0)\n",
    "    if p:\n",
    "        plt.subplot(1,2,2)\n",
    "        plt.imshow(zbar[0, :, :], cmap=cmap)\n",
    "    plt.show()\n",
    "    \n",
    "    # renumber all\n",
    "    zbar = prune_and_renum(zbar,2)\n",
    "    print \"\\trenumbering all...\",len(np.unique(zbar)),\"num0=\",np.sum(zbar==0)\n",
    "    if p:\n",
    "        plt.imshow(zbar[0, :, :], cmap=cmap)\n",
    "    plt.show()\n",
    "#     print \"\\tend all...\",np.max(zbar),\"num0=\",np.sum(zbar==0)\n",
    "    if inc:\n",
    "        zbar[zbar!=0] += np.max(zbar)+1\n",
    "    return zbar, rg_full, rg_counts"
   ]
  },
  {
   "cell_type": "markdown",
   "metadata": {},
   "source": [
    "# Visualize"
   ]
  },
  {
   "cell_type": "code",
   "execution_count": 116,
   "metadata": {
    "collapsed": true
   },
   "outputs": [],
   "source": [
    "def display_affs(raw):\n",
    "    plt.imshow(np.transpose(raw[:, :, :, 1],(2,1,0)))\n",
    "    plt.show()\n",
    "def display_seg_yz(raw,depth=1):\n",
    "    fig = plt.figure(figsize=(15, 7))\n",
    "    plt.imshow(raw[depth, :, :], cmap=cmap)\n",
    "    plt.show()\n",
    "def display_seg_xy(raw,depth=1):\n",
    "    fig = plt.figure(figsize=(15, 7))\n",
    "    ax1 = fig.add_subplot(1, 1, 1)\n",
    "    fig.subplots_adjust(left=0.2, bottom=0.25)\n",
    "    ax1.imshow(raw[:, :, depth], cmap=cmap)\n",
    "    plt.show()"
   ]
  },
  {
   "cell_type": "code",
   "execution_count": null,
   "metadata": {
    "collapsed": true
   },
   "outputs": [],
   "source": []
  }
 ],
 "metadata": {
  "kernelspec": {
   "display_name": "Python 2",
   "language": "python",
   "name": "python2"
  },
  "language_info": {
   "codemirror_mode": {
    "name": "ipython",
    "version": 2
   },
   "file_extension": ".py",
   "mimetype": "text/x-python",
   "name": "python",
   "nbconvert_exporter": "python",
   "pygments_lexer": "ipython2",
   "version": "2.7.11"
  }
 },
 "nbformat": 4,
 "nbformat_minor": 0
}
