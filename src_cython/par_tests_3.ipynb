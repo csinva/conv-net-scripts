{
 "cells": [
  {
   "cell_type": "code",
   "execution_count": 1,
   "metadata": {
    "collapsed": false
   },
   "outputs": [
    {
     "name": "stdout",
     "output_type": "stream",
     "text": [
      "(3, 432, 432, 432)\n"
     ]
    }
   ],
   "source": [
    "import numpy as np\n",
    "import sys\n",
    "import time\n",
    "import os\n",
    "import h5py\n",
    "import os.path as op\n",
    "import matplotlib.cm as cm\n",
    "from matplotlib.widgets import Slider, Button, RadioButtons\n",
    "import matplotlib.pyplot as plt\n",
    "import array\n",
    "%matplotlib inline\n",
    "sys.path.append('..')\n",
    "from zwatershed import *\n",
    "from visualization.visualize_funcs import *\n",
    "from edgelist_methods import *\n",
    "path_to_folder = '/Users/chandansingh/drive/janelia/conv_net_scripts/'\n",
    "path_to_data = path_to_folder + 'data/'\n",
    "from multiprocessing import Pool\n",
    "import nyroglancer\n",
    "\n",
    "\n",
    "# -------------------------------- parameters ---------------------------------------\n",
    "gt_seg = '/groups/turaga/home/turagas/data/FlyEM/fibsem_medulla_7col/tstvol-520-1-h5/groundtruth_seg_thick.h5'\n",
    "gt_aff = '/groups/turaga/home/turagas/data/FlyEM/fibsem_medulla_7col/tstvol-520-1-h5/groundtruth_aff.h5'\n",
    "# pred_file = '/groups/turaga/home/turagas/research/caffe_v2/processed/bock2/120000/sample_A_x1_y1_z1_xy1.h5'\n",
    "# pred_file_2 = '/groups/turaga/home/turagas/research/caffe_v2/processed/bock2/120000/cutout_3k.h5'\n",
    "pred_file = '/groups/turaga/home/turagas/turagalab/FROM_TIER2/singhc/train/output_200000/tstvol-1_2.h5'\n",
    "\n",
    "out_folder = '/nobackup/turaga/singhc/par_zwshed_3/'\n",
    "threshes = [2000]\n",
    "cmap = matplotlib.colors.ListedColormap(np.vstack(((0, 0, 0), np.random.rand(255, 3))))\n",
    "NUM_WORKERS = 16\n",
    "MAX_LEN = 200\n",
    "\n",
    "# -------------------------------- load data ---------------------------------------\n",
    "f = h5py.File(pred_file, 'r')\n",
    "preds = np.array(f['main']).astype('float32')\n",
    "g = h5py.File(gt_seg,'r')\n",
    "gt_seg = g['main']\n",
    "print preds.shape"
   ]
  },
  {
   "cell_type": "markdown",
   "metadata": {},
   "source": [
    "# Divide Volumes, set up args"
   ]
  },
  {
   "cell_type": "code",
   "execution_count": 62,
   "metadata": {
    "collapsed": false
   },
   "outputs": [
    {
     "name": "stdout",
     "output_type": "stream",
     "text": [
      "dims [432 432 432]\n",
      "num_vols [3 3 3]\n",
      "deltas [144 144 144]\n",
      "0 [0 0 0] [148 148 148] (3, 148, 148, 148)\n",
      "1 [  0   0 141] [148 148 292] (3, 148, 148, 151)\n",
      "2 [  0   0 285] [148 148 439] (3, 148, 148, 147)\n",
      "3 [  0 141   0] [148 292 148] (3, 148, 151, 148)\n",
      "4 [  0 141 141] [148 292 292] (3, 148, 151, 151)\n",
      "5 [  0 141 285] [148 292 439] (3, 148, 151, 147)\n",
      "6 [  0 285   0] [148 439 148] (3, 148, 147, 148)\n",
      "7 [  0 285 141] [148 439 292] (3, 148, 147, 151)\n",
      "8 [  0 285 285] [148 439 439] (3, 148, 147, 147)\n",
      "9 [141   0   0] [292 148 148] (3, 151, 148, 148)\n",
      "10 [141   0 141] [292 148 292] (3, 151, 148, 151)\n",
      "11 [141   0 285] [292 148 439] (3, 151, 148, 147)\n",
      "12 [141 141   0] [292 292 148] (3, 151, 151, 148)\n",
      "13 [141 141 141] [292 292 292] (3, 151, 151, 151)\n",
      "14 [141 141 285] [292 292 439] (3, 151, 151, 147)\n",
      "15 [141 285   0] [292 439 148] (3, 151, 147, 148)\n",
      "16 [141 285 141] [292 439 292] (3, 151, 147, 151)\n",
      "17 [141 285 285] [292 439 439] (3, 151, 147, 147)\n",
      "18 [285   0   0] [439 148 148] (3, 147, 148, 148)\n",
      "19 [285   0 141] [439 148 292] (3, 147, 148, 151)\n",
      "20 [285   0 285] [439 148 439] (3, 147, 148, 147)\n",
      "21 [285 141   0] [439 292 148] (3, 147, 151, 148)\n",
      "22 [285 141 141] [439 292 292] (3, 147, 151, 151)\n",
      "23 [285 141 285] [439 292 439] (3, 147, 151, 147)\n",
      "24 [285 285   0] [439 439 148] (3, 147, 147, 148)\n",
      "25 [285 285 141] [439 439 292] (3, 147, 147, 151)\n",
      "26 [285 285 285] [439 439 439] (3, 147, 147, 147)\n"
     ]
    }
   ],
   "source": [
    "def dim_to_name(start):\n",
    "    return str(start[0])+'_'+str(start[1])+'_'+str(start[2])+'_vll/'\n",
    "dims = np.array(preds.shape[1:])\n",
    "print \"dims\",dims # x,y,z\n",
    "num_vols = np.array([int(x/MAX_LEN)+1 for x in dims])\n",
    "# num_vols[0] = 2 # delete this!\n",
    "deltas = dims/num_vols\n",
    "print \"num_vols\",num_vols\n",
    "print \"deltas\",deltas\n",
    "starts,ends = [],[]\n",
    "for x in range(num_vols[0]):\n",
    "    for y in range(num_vols[1]):\n",
    "        for z in range(num_vols[2]):\n",
    "            starts.append((x,y,z)*deltas - [3,3,3] +3*np.array([x==0,y==0,z==0]))\n",
    "            extra = 3*np.array([x==num_vols[0]-1,y==num_vols[1]-1,z==num_vols[2]-1],dtype='int')\n",
    "            ends.append((x,y,z)*deltas + deltas + [1,1,1]+extra +[3,3,3])\n",
    "args = []\n",
    "for i in range(len(starts)):\n",
    "    s,e = starts[i],ends[i]\n",
    "    pred_vol = preds[:,s[0]:e[0],s[1]:e[1],s[2]:e[2]]\n",
    "    print i,s,e,pred_vol.shape\n",
    "    args.append((pred_vol,out_folder+dim_to_name(s)))    "
   ]
  },
  {
   "cell_type": "markdown",
   "metadata": {},
   "source": [
    "# Call Watershed"
   ]
  },
  {
   "cell_type": "code",
   "execution_count": null,
   "metadata": {
    "collapsed": false
   },
   "outputs": [],
   "source": [
    "def zwshed_h5_par(arg):\n",
    "    (pred_vol,seg_save_path) = arg\n",
    "    zwatershed_basic_h5(pred_vol,seg_save_path)\n",
    "    print \"finished\",seg_save_path,\"watershed\"\n",
    "p = Pool(NUM_WORKERS)\n",
    "p.map(zwshed_h5_par, args)\n",
    "# zwshed_h5_par(args[0])"
   ]
  },
  {
   "cell_type": "markdown",
   "metadata": {},
   "source": [
    "# Stitch"
   ]
  },
  {
   "cell_type": "code",
   "execution_count": 84,
   "metadata": {
    "collapsed": false
   },
   "outputs": [
    {
     "name": "stdout",
     "output_type": "stream",
     "text": [
      "i,x,y,z 0 0 0 0\n",
      "i,x,y,z 1 0 0 1\n",
      "i,x,y,z 2 0 0 2\n",
      "\tfilter merges...\n",
      "\tmerging numbers, 448 keys ... \n",
      "\tbefore nsegs= 45361 num0= 0\n",
      "\tafter nsegs= 45294 num0= 71231290\n"
     ]
    },
    {
     "data": {
      "image/png": "[encoded data removed]",
      "text/plain": [
       "<matplotlib.figure.Figure at 0x7feb28cfdfd0>"
      ]
     },
     "metadata": {},
     "output_type": "display_data"
    },
    {
     "name": "stdout",
     "output_type": "stream",
     "text": [
      "\tmerging rgs...\n",
      "\trenumbering all... 45294 num0= 71231290\n"
     ]
    },
    {
     "name": "stderr",
     "output_type": "stream",
     "text": [
      "/groups/turaga/home/singhc/anaconda/lib/python2.7/site-packages/ipykernel/__main__.py:89: DeprecationWarning: using a non-integer number instead of an integer will result in an error in the future\n"
     ]
    },
    {
     "data": {
      "image/png": "[encoded data removed]",
      "text/plain": [
       "<matplotlib.figure.Figure at 0x7fe8a03fcf10>"
      ]
     },
     "metadata": {},
     "output_type": "display_data"
    },
    {
     "name": "stdout",
     "output_type": "stream",
     "text": [
      "finished\n"
     ]
    }
   ],
   "source": [
    "f = h5py.File(out_folder+'out.h5', 'a')\n",
    "del f['seg']\n",
    "dset_seg = f.create_dataset('seg', dims, dtype='uint64', chunks=True)\n",
    "inc = 0\n",
    "filename = 'basic.h5'\n",
    "re,merges,rgs={},{},{}\n",
    "X,Y,Z = (1,1,3)\n",
    "for x in range(X): #num_vols[0]):\n",
    "    for y in range(Y): #num_vols[1]):        \n",
    "        for z in range(Z): #num_vols[2]): \n",
    "            i = x*num_vols[1]*num_vols[2]+y*num_vols[2]+z\n",
    "            arg,s,e = args[i],starts[i],ends[i]\n",
    "            basic_file = h5py.File(arg[1]+filename,'r')\n",
    "            seg = np.array(basic_file['seg'])\n",
    "            rg = np.array(basic_file['rg'])\n",
    "            seg[seg!=0]+=inc\n",
    "            rg[:,:2] += inc\n",
    "            rgs[i] = rg\n",
    "            inc = np.max(seg)\n",
    "            print \"i,x,y,z\",i,x,y,z\n",
    "            if not z==0: \n",
    "                re,merges = calc_merges(edge_mins=dset_seg[s[0]:e[0],s[1]:e[1],s[2]+3],edge_maxes=seg[:,:,3], re=re, merges=merges)\n",
    "            if not y==0:\n",
    "                re,merges = calc_merges(edge_mins=dset_seg[s[0]:e[0],s[1]+3,s[2]:e[2]],edge_maxes=seg[:,3,:],re=re,merges=merges)\n",
    "            if not x==0:\n",
    "                re,merges = calc_merges(edge_mins=dset_seg[s[0]+3,s[1]:e[1],s[2]:e[2]],edge_maxes=seg[3,:,:],re=re, merges=merges)\n",
    "            dset_seg[s[0]:e[0],s[1]:e[1],s[2]:e[2]] = seg[:,:,:]\n",
    "            \n",
    "merges_filtered = filter_merges(merges)            \n",
    "dset_seg,rgs = merge(merges_filtered,dset_seg,rgs,max_val=inc,p=True)\n",
    "dset_seg,rgs = renum_all(dset_seg,rgs,p=True)\n",
    "\n",
    "# calculate sizes\n",
    "seg_ids,seg_sizes = np.unique(dset_seg,return_counts=True)\n",
    "# sizes = np.arra\n",
    "# sizes[seg_ids] = seg_sizes\n",
    "f.close()    \n",
    "print \"finished\"\n",
    "\n",
    "# display_seg_xy(dset_seg)"
   ]
  },
  {
   "cell_type": "code",
   "execution_count": 79,
   "metadata": {
    "collapsed": false
   },
   "outputs": [],
   "source": [
    "# stitch methods\n",
    "COUNT_THRESH = 0\n",
    "def calc_merges(edge_mins,edge_maxes, re, merges={}):\n",
    "    edge_mins = edge_mins.ravel()\n",
    "    edge_maxes = edge_maxes.ravel()\n",
    "    for j in range(len(edge_mins)):\n",
    "        edge_min = edge_mins[j]\n",
    "        edge_max = edge_maxes[j]\n",
    "        if not edge_min==0 and not edge_max==0:\n",
    "            if not edge_max==edge_min:\n",
    "                if edge_max in re: # already in map\n",
    "                    old_min = re[edge_max]\n",
    "                    merge_max = max(old_min,edge_min)\n",
    "                    merge_min = min(old_min,edge_min)\n",
    "                    if not merge_max==merge_min:\n",
    "                        re[merge_max] = merge_min\n",
    "                        add_or_inc(merge_max,merge_min,merges)\n",
    "            re[edge_max] = edge_min\n",
    "            add_or_inc(edge_max,edge_min,merges)\n",
    "    return re, merges  \n",
    "\n",
    "def add_or_inc(key_max,key_min,d):\n",
    "    key = (key_max,key_min)\n",
    "    if not key in d:\n",
    "        d[key] = 1\n",
    "    else:\n",
    "        d[key] +=1\n",
    "\n",
    "def filter_merges(merges):\n",
    "    print \"\\tfilter merges...\"\n",
    "    # only keep strongest edges\n",
    "    renums = {}\n",
    "    count_maxes = {}\n",
    "    for pair in merges:\n",
    "        count = merges[pair]\n",
    "        e1,e2 = pair\n",
    "        if e1 in count_maxes:\n",
    "            if count > count_maxes[e1]:\n",
    "                renums[e1] = e2\n",
    "                count_maxes[e1] = count\n",
    "        else:\n",
    "            renums[e1] = e2\n",
    "            count_maxes[e1] = count\n",
    "    \n",
    "    # compress merges\n",
    "    sum_counts = 0\n",
    "    for key in merges:\n",
    "        sum_counts += merges[key]\n",
    "    renums_filtered = {}\n",
    "    print \"\\tmerging numbers,\",len(renums.keys()),\"keys ... \"            \n",
    "    for key in renums:\n",
    "        val = renums[key]\n",
    "        if merges[(key,val)] > COUNT_THRESH:\n",
    "            while val in renums:\n",
    "                val = renums[val]\n",
    "            renums_filtered[key] = val\n",
    "    return renums_filtered\n",
    "    \n",
    "def merge(merges_filtered,seg,rgs,max_val=1e5,p=False):     \n",
    "    # merge segs\n",
    "#     print \"\\tbefore nsegs=\",len(np.unique(seg)),\"num0=\",np.sum(seg==0)\n",
    "    if p:\n",
    "        fig = plt.figure(figsize=(15, 7))\n",
    "        plt.subplot(1,2,1)\n",
    "        plt.imshow(seg[0, :, :], cmap=cmap)\n",
    "    mp = np.arange(0,max_val+1,dtype='uint64')\n",
    "    mp[merges_filtered.keys()] = merges_filtered.values()\n",
    "    seg = mp[seg]\n",
    "#     print \"\\tafter nsegs=\",len(np.unique(seg)),\"num0=\",np.sum(seg==0)\n",
    "    if p:\n",
    "        plt.subplot(1,2,2)\n",
    "        plt.imshow(seg[0, :, :], cmap=cmap)\n",
    "    plt.show()\n",
    "    \n",
    "    # merge rgs\n",
    "    print \"\\tmerging rgs...\"\n",
    "    for key in rgs:\n",
    "        rg = rgs[key]\n",
    "        rg_to_renum = rg[:,:2].astype('int')\n",
    "        rg[:,:2] = mp[rg_to_renum]\n",
    "        keeps = rg[:,0]!=rg[:,1]\n",
    "        rg_filtered = rg[keeps,:]\n",
    "        rgs[key] = rg_filtered\n",
    "    return seg,rgs\n",
    "\n",
    "def renum_all(seg,rgs,p=False):    \n",
    "    \n",
    "    segId = np.unique(seg)\n",
    "    renum = np.zeros(segId.max()+1,dtype=np.uint64)\n",
    "    renum[segId] = np.arange(1,len(segId)+1)\n",
    "    renum[0]=0\n",
    "    seg = renum[seg]\n",
    "\n",
    "    print \"\\trenumbering all...\",len(np.unique(seg)),\"num0=\",np.sum(seg==0)\n",
    "    if p:\n",
    "        plt.imshow(seg[0, :, :], cmap=cmap)\n",
    "    plt.show()\n",
    "\n",
    "    return seg, rgs"
   ]
  },
  {
   "cell_type": "markdown",
   "metadata": {},
   "source": [
    "# Visualize"
   ]
  },
  {
   "cell_type": "code",
   "execution_count": 25,
   "metadata": {
    "collapsed": true
   },
   "outputs": [],
   "source": [
    "def display_affs(raw):\n",
    "    plt.imshow(np.transpose(raw[:, :, :, 1],(2,1,0)))\n",
    "    plt.show()\n",
    "def display_seg_yz(raw,depth=1):\n",
    "    fig = plt.figure(figsize=(15, 7))\n",
    "    plt.imshow(raw[depth, :, :], cmap=cmap)\n",
    "    plt.show()\n",
    "def display_seg_xy(raw,depth=1):\n",
    "    fig = plt.figure(figsize=(15, 7))\n",
    "    ax1 = fig.add_subplot(1, 1, 1)\n",
    "    fig.subplots_adjust(left=0.2, bottom=0.25)\n",
    "    ax1.imshow(raw[:, :, depth], cmap=cmap)\n",
    "    plt.show()"
   ]
  },
  {
   "cell_type": "code",
   "execution_count": 85,
   "metadata": {
    "collapsed": false
   },
   "outputs": [
    {
     "ename": "NameError",
     "evalue": "name 'display_seg_xy' is not defined",
     "output_type": "error",
     "traceback": [
      "\u001b[1;31m---------------------------------------------------------------------------\u001b[0m",
      "\u001b[1;31mNameError\u001b[0m                                 Traceback (most recent call last)",
      "\u001b[1;32m<ipython-input-85-9947337e9f5e>\u001b[0m in \u001b[0;36m<module>\u001b[1;34m()\u001b[0m\n\u001b[1;32m----> 1\u001b[1;33m \u001b[0mdisplay_seg_xy\u001b[0m\u001b[1;33m(\u001b[0m\u001b[0mdset_seg\u001b[0m\u001b[1;33m)\u001b[0m\u001b[1;33m\u001b[0m\u001b[0m\n\u001b[0m",
      "\u001b[1;31mNameError\u001b[0m: name 'display_seg_xy' is not defined"
     ]
    }
   ],
   "source": [
    "display_seg_xy(dset_seg)"
   ]
  },
  {
   "cell_type": "code",
   "execution_count": 13,
   "metadata": {
    "collapsed": false
   },
   "outputs": [
    {
     "data": {
      "text/html": [
       "<iframe src=\"http://localhost:8888/viewer#!{'layers':{'raw':{'source':'ndstore://http://localhost:8888/%2Frun%2Fuser%2F52556%2Fjupyter%2Fkernel-c081a6f7-ef17-4c6e-bc2a-717eb8f927b8.json6gwxss97crdep8zd'_'type':'segmentation'}}_'navigation':{'pose':{'position':{'voxelSize':[1_1_1]_'voxelCoordinates':[50_50_50]}}_'zoomFactor':1}_'perspectiveZoom':1}\" width=\"100%\" height=\"1024px\"><\\iframe>"
      ],
      "text/plain": [
       "<IPython.core.display.HTML object>"
      ]
     },
     "execution_count": 13,
     "metadata": {},
     "output_type": "execute_result"
    }
   ],
   "source": [
    "v = nyroglancer.Viewer()\n",
    "v.set_hostname(\"localhost:8888\")\n",
    "v.put(gt_seg, resolution=[1,1,1], vtype=\"segmentation\", name=\"raw\")\n",
    "v.show()"
   ]
  },
  {
   "cell_type": "code",
   "execution_count": 20,
   "metadata": {
    "collapsed": false
   },
   "outputs": [
    {
     "name": "stdout",
     "output_type": "stream",
     "text": [
      "[[1 2 3]\n",
      " [4 5 6]]\n",
      "[[ 0.  1.  0.]\n",
      " [ 0.  1.  0.]]\n"
     ]
    }
   ],
   "source": [
    "x = np.array([[1,2,3],[4,5,6]])\n",
    "y = np.zeros(x.shape)\n",
    "y[:,1]=1\n",
    "print x\n",
    "print y\n",
    "print "
   ]
  },
  {
   "cell_type": "code",
   "execution_count": null,
   "metadata": {
    "collapsed": true
   },
   "outputs": [],
   "source": []
  }
 ],
 "metadata": {
  "kernelspec": {
   "display_name": "Python 2",
   "language": "python",
   "name": "python2"
  },
  "language_info": {
   "codemirror_mode": {
    "name": "ipython",
    "version": 2
   },
   "file_extension": ".py",
   "mimetype": "text/x-python",
   "name": "python",
   "nbconvert_exporter": "python",
   "pygments_lexer": "ipython2",
   "version": "2.7.11"
  }
 },
 "nbformat": 4,
 "nbformat_minor": 0
}
