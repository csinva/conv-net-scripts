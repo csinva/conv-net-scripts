{
 "cells": [
  {
   "cell_type": "code",
   "execution_count": 1,
   "metadata": {
    "collapsed": false
   },
   "outputs": [],
   "source": [
    "import numpy as np\n",
    "import sys\n",
    "import time\n",
    "import os\n",
    "import h5py\n",
    "sys.path.append('src_cython')\n",
    "from mainDefs import eval,zwatershed_and_metrics_h5\n",
    "start = time.clock()\n",
    "\n",
    "def evaluateFile(args):\n",
    "    hdf5_gt_file,hdf5_pred_file,threshes,funcs,save_threshes,out = args\n",
    "    hdf5_gt = h5py.File(hdf5_gt_file, 'r')\n",
    "    hdf5_aff = h5py.File(hdf5_pred_file, 'r')\n",
    "    gt = np.asarray(hdf5_gt[hdf5_gt.keys()[0]],dtype='uint32')\n",
    "    aff = np.asarray(hdf5_aff[hdf5_aff.keys()[0]],dtype='float32')\n",
    "    aff = np.transpose(aff,(1,2,3,0))\n",
    "\n",
    "    dims = np.array(aff.shape,dtype='uint32')\n",
    "    print 'dims:',aff.shape\n",
    "\n",
    "    # trim gt data - only works for perfect cubes\n",
    "    gt_data_dimension = gt.shape[0]\n",
    "    data_dimension = aff.shape[1]\n",
    "    if gt_data_dimension != data_dimension:\n",
    "        print(\"Data dimension do not match. Clip the GT borders.\")\n",
    "        padding = (gt_data_dimension - data_dimension) / 2\n",
    "        gt = gt[padding:(-1*padding),padding:(-1*padding),padding:(-1*padding)]\n",
    "        print\"New GT data shape :\",gt.shape\n",
    "\n",
    "    # change both to fortran order\n",
    "    gt = np.array(gt,order='F')\n",
    "    aff = np.array(aff,order='F')\n",
    "\n",
    "    # evaluate call\n",
    "    print \"gt shape:\",gt.shape\n",
    "    print \"aff shape:\",aff.shape\n",
    "  # if not os.path.exists(out):\n",
    "  #      os.makedirs(out)\n",
    "    print('out: '+out)\n",
    "    f = open(out+'info.txt', 'w')\n",
    "    f.write('gt: '+hdf5_gt_file+'\\n')\n",
    "    f.write('pred: '+hdf5_pred_file+'\\n')\n",
    "    f.write('pred_dims: '+np.array_str(dims))\n",
    "    f.write('threshes: '+np.array_str(np.array(threshes)))\n",
    "    f.close()\n",
    "#    eval(gt,aff,threshes,funcs,save_threshes,out)\n",
    "    m = zwatershed_and_metrics_h5(gt,aff,threshes,save_threshes)\n",
    "    return m\n",
    "\n",
    "\n",
    "    "
   ]
  },
  {
   "cell_type": "code",
   "execution_count": 2,
   "metadata": {
    "collapsed": false
   },
   "outputs": [
    {
     "name": "stdout",
     "output_type": "stream",
     "text": [
      "running evaluateFile main...\n",
      "dims: (432, 432, 432, 3)\n",
      "Data dimension do not match. Clip the GT borders.\n",
      "New GT data shape : (432, 432, 432)\n",
      "gt shape: (432, 432, 432)\n",
      "aff shape: (432, 432, 432, 3)\n",
      "out: /groups/turaga/home/singhc/evaluation/out/\n",
      "new evalAll being evaluated\n",
      "[0.8381026426457562, 0.9720035133868803]\n"
     ]
    },
    {
     "ename": "TypeError",
     "evalue": "only length-1 arrays can be converted to Python scalars",
     "output_type": "error",
     "traceback": [
      "\u001b[1;31m---------------------------------------------------------------------------\u001b[0m",
      "\u001b[1;31mTypeError\u001b[0m                                 Traceback (most recent call last)",
      "\u001b[1;32m<ipython-input-2-3d7f9c7828ff>\u001b[0m in \u001b[0;36m<module>\u001b[1;34m()\u001b[0m\n\u001b[0;32m     13\u001b[0m \u001b[0mfiles\u001b[0m \u001b[1;33m=\u001b[0m \u001b[1;33m[\u001b[0m\u001b[1;34m'/tier2/turaga/singhc/train/output_200000/tstvol-1_'\u001b[0m \u001b[1;33m+\u001b[0m\u001b[0mstrs\u001b[0m\u001b[1;33m[\u001b[0m\u001b[0mi\u001b[0m\u001b[1;33m]\u001b[0m \u001b[1;32mfor\u001b[0m \u001b[0mi\u001b[0m \u001b[1;32min\u001b[0m \u001b[0mrange\u001b[0m\u001b[1;33m(\u001b[0m\u001b[0mlen\u001b[0m\u001b[1;33m(\u001b[0m\u001b[0mstrs\u001b[0m\u001b[1;33m)\u001b[0m\u001b[1;33m)\u001b[0m\u001b[1;33m]\u001b[0m\u001b[1;33m\u001b[0m\u001b[0m\n\u001b[0;32m     14\u001b[0m \u001b[1;33m\u001b[0m\u001b[0m\n\u001b[1;32m---> 15\u001b[1;33m \u001b[0mm\u001b[0m \u001b[1;33m=\u001b[0m \u001b[0mevaluateFile\u001b[0m\u001b[1;33m(\u001b[0m\u001b[1;33m[\u001b[0m\u001b[0mhdf5_gt_file\u001b[0m\u001b[1;33m,\u001b[0m\u001b[0mfiles\u001b[0m\u001b[1;33m[\u001b[0m\u001b[0mi\u001b[0m\u001b[1;33m]\u001b[0m\u001b[1;33m+\u001b[0m\u001b[1;34m'.h5'\u001b[0m\u001b[1;33m,\u001b[0m\u001b[0mthreshes\u001b[0m\u001b[1;33m,\u001b[0m\u001b[0mfuncs\u001b[0m\u001b[1;33m,\u001b[0m\u001b[1;33m[\u001b[0m\u001b[1;33m]\u001b[0m\u001b[1;33m,\u001b[0m\u001b[0mout\u001b[0m\u001b[1;33m]\u001b[0m\u001b[1;33m)\u001b[0m\u001b[1;33m\u001b[0m\u001b[0m\n\u001b[0m",
      "\u001b[1;32m<ipython-input-1-79e8cae9d28e>\u001b[0m in \u001b[0;36mevaluateFile\u001b[1;34m(args)\u001b[0m\n\u001b[0;32m     45\u001b[0m     \u001b[0mf\u001b[0m\u001b[1;33m.\u001b[0m\u001b[0mclose\u001b[0m\u001b[1;33m(\u001b[0m\u001b[1;33m)\u001b[0m\u001b[1;33m\u001b[0m\u001b[0m\n\u001b[0;32m     46\u001b[0m \u001b[1;31m#    eval(gt,aff,threshes,funcs,save_threshes,out)\u001b[0m\u001b[1;33m\u001b[0m\u001b[1;33m\u001b[0m\u001b[0m\n\u001b[1;32m---> 47\u001b[1;33m     \u001b[0mm\u001b[0m \u001b[1;33m=\u001b[0m \u001b[0mzwatershed_and_metrics_h5\u001b[0m\u001b[1;33m(\u001b[0m\u001b[0mgt\u001b[0m\u001b[1;33m,\u001b[0m\u001b[0maff\u001b[0m\u001b[1;33m,\u001b[0m\u001b[0mthreshes\u001b[0m\u001b[1;33m,\u001b[0m\u001b[0msave_threshes\u001b[0m\u001b[1;33m)\u001b[0m\u001b[1;33m\u001b[0m\u001b[0m\n\u001b[0m\u001b[0;32m     48\u001b[0m     \u001b[1;32mreturn\u001b[0m \u001b[0mm\u001b[0m\u001b[1;33m\u001b[0m\u001b[0m\n\u001b[0;32m     49\u001b[0m \u001b[1;33m\u001b[0m\u001b[0m\n",
      "\u001b[1;32m/groups/turaga/home/singhc/evaluation/src_cython/mainDefs.pyx\u001b[0m in \u001b[0;36mmainDefs.zwatershed_and_metrics_h5 (mainDefs.cpp:2161)\u001b[1;34m()\u001b[0m\n\u001b[0;32m     33\u001b[0m     \u001b[0mseg_np\u001b[0m \u001b[1;33m=\u001b[0m \u001b[0mnp\u001b[0m\u001b[1;33m.\u001b[0m\u001b[0marray\u001b[0m\u001b[1;33m(\u001b[0m\u001b[0mmap\u001b[0m\u001b[1;33m[\u001b[0m\u001b[1;34m'seg'\u001b[0m\u001b[1;33m]\u001b[0m\u001b[1;33m)\u001b[0m\u001b[1;33m.\u001b[0m\u001b[0mreshape\u001b[0m\u001b[1;33m(\u001b[0m\u001b[1;33m(\u001b[0m\u001b[0mdims\u001b[0m\u001b[1;33m[\u001b[0m\u001b[1;36m0\u001b[0m\u001b[1;33m]\u001b[0m\u001b[1;33m,\u001b[0m\u001b[0mdims\u001b[0m\u001b[1;33m[\u001b[0m\u001b[1;36m1\u001b[0m\u001b[1;33m]\u001b[0m\u001b[1;33m,\u001b[0m\u001b[0mdims\u001b[0m\u001b[1;33m[\u001b[0m\u001b[1;36m2\u001b[0m\u001b[1;33m]\u001b[0m\u001b[1;33m)\u001b[0m\u001b[1;33m)\u001b[0m\u001b[1;33m\u001b[0m\u001b[0m\n\u001b[0;32m     34\u001b[0m     \u001b[0mseg_np\u001b[0m \u001b[1;33m=\u001b[0m \u001b[0mnp\u001b[0m\u001b[1;33m.\u001b[0m\u001b[0mtranspose\u001b[0m\u001b[1;33m(\u001b[0m\u001b[0mseg_np\u001b[0m\u001b[1;33m,\u001b[0m\u001b[1;33m(\u001b[0m\u001b[1;36m2\u001b[0m\u001b[1;33m,\u001b[0m\u001b[1;36m1\u001b[0m\u001b[1;33m,\u001b[0m\u001b[1;36m0\u001b[0m\u001b[1;33m)\u001b[0m\u001b[1;33m)\u001b[0m\u001b[1;33m\u001b[0m\u001b[0m\n\u001b[1;32m---> 35\u001b[1;33m     \u001b[1;31m#map['seg']=seg_np\u001b[0m\u001b[1;33m\u001b[0m\u001b[1;33m\u001b[0m\u001b[0m\n\u001b[0m\u001b[0;32m     36\u001b[0m     \u001b[0mreturnMap\u001b[0m \u001b[1;33m=\u001b[0m \u001b[1;33m{\u001b[0m\u001b[1;33m}\u001b[0m\u001b[1;33m\u001b[0m\u001b[0m\n\u001b[0;32m     37\u001b[0m     \u001b[0mreturnMap\u001b[0m\u001b[1;33m[\u001b[0m\u001b[1;34m'stats'\u001b[0m\u001b[1;33m]\u001b[0m\u001b[1;33m=\u001b[0m\u001b[0mmap\u001b[0m\u001b[1;33m[\u001b[0m\u001b[1;34m'stats'\u001b[0m\u001b[1;33m]\u001b[0m\u001b[1;33m\u001b[0m\u001b[0m\n",
      "\u001b[1;32m/groups/turaga/home/singhc/evaluation/src_cython/mainDefs.so\u001b[0m in \u001b[0;36mvector.from_py.__pyx_convert_vector_from_py_double (mainDefs.cpp:5160)\u001b[1;34m()\u001b[0m\n",
      "\u001b[1;31mTypeError\u001b[0m: only length-1 arrays can be converted to Python scalars"
     ]
    }
   ],
   "source": [
    "\n",
    "m = {}\n",
    "print \"running evaluateFile main...\"\n",
    "hdf5_gt_file = '/groups/turaga/home/turagas/data/FlyEM/fibsem_medulla_7col/tstvol-520-1-h5/groundtruth_seg_thick.h5'\n",
    "#hdf5_aff_file = '/groups/turaga/home/turagas/data/FlyEM/fibsem_medulla_7col/tstvol-520-1-h5/groundtruth_aff.h5'\n",
    "#hdf5_pred_file = '/tier2/turaga/singhc/output_10000/tstvol-1_5.h5'\n",
    "\n",
    "threshes = [i*2000 for i in range(1,6)]+[i*20000 for i in range(2,16)] # 100...1,000...100,000\n",
    "funcs = ['square'] # ['linear','square','threshold','watershed','lowhigh']\n",
    "out = '/groups/turaga/home/singhc/evaluation/out/'\n",
    "iters = [10000]\n",
    "strs = [\"2\"]\n",
    "files = ['/tier2/turaga/singhc/train/output_200000/tstvol-1_' +strs[i] for i in range(len(strs))]\n",
    "\n",
    "m = evaluateFile([hdf5_gt_file,files[i]+'.h5',threshes,funcs,[],out])"
   ]
  },
  {
   "cell_type": "code",
   "execution_count": null,
   "metadata": {
    "collapsed": false
   },
   "outputs": [],
   "source": [
    "%matplotlib inline \n",
    "import os\n",
    "import os.path as op\n",
    "import matplotlib.cm as cm\n",
    "import numpy as np\n",
    "from matplotlib.widgets import Slider, Button, RadioButtons\n",
    "import matplotlib.pyplot as plt\n",
    "import h5py\n",
    "import array\n",
    "from visualization.visualize_funcs import display_preds,display_seg,trim,formatAndSave,load_seg_from_dat\n",
    "   \n",
    "## Just to access the images...\n",
    "data_folder = 'nobackup/turaga/data/fibsem_medulla_7col/tstvol-520-1-h5/'\n",
    "os.chdir('/.')\n",
    "\n",
    "#Open training data\n",
    "f = h5py.File(data_folder + 'img_normalized.h5', 'r')\n",
    "im = f['main']\n",
    "\n",
    "#Open training labels\n",
    "g = h5py.File(data_folder + 'groundtruth_aff.h5', 'r')\n",
    "label_set = np.asarray(g['main'],dtype='float32') #3,z,y,x\n",
    "label_set = np.transpose(label_set,(1,2,3,0))"
   ]
  },
  {
   "cell_type": "code",
   "execution_count": null,
   "metadata": {
    "collapsed": false
   },
   "outputs": [],
   "source": [
    "# loading h5\n",
    "'''\n",
    "hdf5_seg_file = '/groups/turaga/home/turagas/data/FlyEM/fibsem_medulla_7col/tstvol-520-2-h5/groundtruth_seg_thick.h5'\n",
    "hdf5_seg = h5py.File(hdf5_seg_file, 'r')\n",
    "seg = np.asarray(hdf5_seg['main'],dtype='uint32')\n",
    "'''\n",
    "seg = m['seg']\n",
    "print im.shape\n",
    "print label_set.shape\n",
    "print seg.shape\n",
    "im,label_set=trim(im,label_set,seg)\n",
    "print im.shape\n",
    "print label_set.shape\n",
    "print seg.shape\n",
    "display_seg(im, label_set, seg, im_size=label_set.shape[0], im2_size=seg.shape[0])"
   ]
  },
  {
   "cell_type": "code",
   "execution_count": null,
   "metadata": {
    "collapsed": true
   },
   "outputs": [],
   "source": [
    "import sys\n",
    "sys.modules.clear(  )"
   ]
  },
  {
   "cell_type": "code",
   "execution_count": null,
   "metadata": {
    "collapsed": true
   },
   "outputs": [],
   "source": []
  }
 ],
 "metadata": {
  "kernelspec": {
   "display_name": "Python 2",
   "language": "python",
   "name": "python2"
  },
  "language_info": {
   "codemirror_mode": {
    "name": "ipython",
    "version": 2
   },
   "file_extension": ".py",
   "mimetype": "text/x-python",
   "name": "python",
   "nbconvert_exporter": "python",
   "pygments_lexer": "ipython2",
   "version": "2.7.11"
  }
 },
 "nbformat": 4,
 "nbformat_minor": 0
}
