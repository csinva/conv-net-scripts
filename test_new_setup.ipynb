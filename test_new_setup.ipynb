{
 "cells": [
  {
   "cell_type": "code",
   "execution_count": 38,
   "metadata": {
    "collapsed": true
   },
   "outputs": [],
   "source": [
    "import numpy as np\n",
    "import sys\n",
    "import time\n",
    "import os\n",
    "import h5py\n",
    "sys.path.append('src_cython')\n",
    "from mainDefs import eval,evalAll\n",
    "start = time.clock()\n",
    "\n",
    "def evaluateFile(args):\n",
    "    hdf5_gt_file,hdf5_pred_file,threshes,funcs,save_threshes,out = args\n",
    "    hdf5_gt = h5py.File(hdf5_gt_file, 'r')\n",
    "    hdf5_aff = h5py.File(hdf5_pred_file, 'r')\n",
    "    gt = np.asarray(hdf5_gt[hdf5_gt.keys()[0]],dtype='uint32')\n",
    "    aff = np.asarray(hdf5_aff[hdf5_aff.keys()[0]],dtype='float32')\n",
    "    aff = np.transpose(aff,(1,2,3,0))\n",
    "\n",
    "    dims = np.array(aff.shape,dtype='uint32')\n",
    "    print 'dims:',aff.shape\n",
    "\n",
    "    # trim gt data - only works for perfect cubes\n",
    "    gt_data_dimension = gt.shape[0]\n",
    "    data_dimension = aff.shape[1]\n",
    "    if gt_data_dimension != data_dimension:\n",
    "        print(\"Data dimension do not match. Clip the GT borders.\")\n",
    "        padding = (gt_data_dimension - data_dimension) / 2\n",
    "        gt = gt[padding:(-1*padding),padding:(-1*padding),padding:(-1*padding)]\n",
    "        print\"New GT data shape :\",gt.shape\n",
    "\n",
    "    # change both to fortran order\n",
    "    gt = np.array(gt,order='F')\n",
    "    aff = np.array(aff,order='F')\n",
    "\n",
    "    # evaluate call\n",
    "    print \"gt shape:\",gt.shape\n",
    "    print \"aff shape:\",aff.shape\n",
    "  # if not os.path.exists(out):\n",
    "  #      os.makedirs(out)\n",
    "    print('out: '+out)\n",
    "    f = open(out+'info.txt', 'w')\n",
    "    f.write('gt: '+hdf5_gt_file+'\\n')\n",
    "    f.write('pred: '+hdf5_pred_file+'\\n')\n",
    "    f.write('pred_dims: '+np.array_str(dims))\n",
    "    f.write('threshes: '+np.array_str(np.array(threshes)))\n",
    "    f.close()\n",
    "#    eval(gt,aff,threshes,funcs,save_threshes,out)\n",
    "    evalAll(gt,aff,threshes,save_threshes,out)\n",
    "\n",
    "\n",
    "    "
   ]
  },
  {
   "cell_type": "code",
   "execution_count": null,
   "metadata": {
    "collapsed": false
   },
   "outputs": [
    {
     "name": "stdout",
     "output_type": "stream",
     "text": [
      "running evaluateFile main...\n",
      "dims: (432, 432, 432, 3)\n",
      "Data dimension do not match. Clip the GT borders.\n",
      "New GT data shape : (432, 432, 432)\n",
      "gt shape:"
     ]
    }
   ],
   "source": [
    "print \"running evaluateFile main...\"\n",
    "hdf5_gt_file = '/groups/turaga/home/turagas/data/FlyEM/fibsem_medulla_7col/tstvol-520-1-h5/groundtruth_seg_thick.h5'\n",
    "#hdf5_aff_file = '/groups/turaga/home/turagas/data/FlyEM/fibsem_medulla_7col/tstvol-520-1-h5/groundtruth_aff.h5'\n",
    "#hdf5_pred_file = '/tier2/turaga/singhc/output_10000/tstvol-1_5.h5'\n",
    "\n",
    "threshes = [i*2000 for i in range(1,6)]+[i*20000 for i in range(2,16)] # 100...1,000...100,000\n",
    "funcs = ['square'] # ['linear','square','threshold','watershed','lowhigh']\n",
    "out = '/groups/turaga/home/singhc/evaluation/out/'\n",
    "iters = [10000]\n",
    "strs = [\"2\"]\n",
    "files = ['/tier2/turaga/singhc/train/output_200000/tstvol-1_' +strs[i] for i in range(len(strs))]\n",
    "\n",
    "for i in range(len(strs)):\n",
    "    evaluateFile([hdf5_gt_file,files[i]+'.h5',threshes,funcs,[],out])"
   ]
  },
  {
   "cell_type": "code",
   "execution_count": 16,
   "metadata": {
    "collapsed": false
   },
   "outputs": [],
   "source": [
    "%matplotlib inline \n",
    "import os\n",
    "import os.path as op\n",
    "import matplotlib.cm as cm\n",
    "import numpy as np\n",
    "from matplotlib.widgets import Slider, Button, RadioButtons\n",
    "import matplotlib.pyplot as plt\n",
    "import h5py\n",
    "import array\n",
    "from visualization.visualize_funcs import display_preds,display_seg,trim,formatAndSave,load_seg_from_dat\n",
    "   \n",
    "## Just to access the images...\n",
    "data_folder = 'nobackup/turaga/data/fibsem_medulla_7col/tstvol-520-1-h5/'\n",
    "os.chdir('/.')\n",
    "\n",
    "#Open training data\n",
    "f = h5py.File(data_folder + 'img_normalized.h5', 'r')\n",
    "im = f['main']\n",
    "\n",
    "#Open training labels\n",
    "g = h5py.File(data_folder + 'groundtruth_aff.h5', 'r')\n",
    "label_set = np.asarray(g['main'],dtype='float32') #3,z,y,x\n",
    "label_set = np.transpose(label_set,(1,2,3,0))"
   ]
  },
  {
   "cell_type": "code",
   "execution_count": 20,
   "metadata": {
    "collapsed": false
   },
   "outputs": [
    {
     "name": "stdout",
     "output_type": "stream",
     "text": [
      "(520, 520, 520)\n",
      "(520, 520, 520, 3)\n",
      "(432, 432, 432)\n"
     ]
    },
    {
     "ename": "TypeError",
     "evalue": "'NoneType' object is not iterable",
     "output_type": "error",
     "traceback": [
      "\u001b[1;31m---------------------------------------------------------------------------\u001b[0m",
      "\u001b[1;31mTypeError\u001b[0m                                 Traceback (most recent call last)",
      "\u001b[1;32m<ipython-input-20-7d4b6bb1051e>\u001b[0m in \u001b[0;36m<module>\u001b[1;34m()\u001b[0m\n\u001b[0;32m      9\u001b[0m \u001b[1;32mprint\u001b[0m \u001b[0mlabel_set\u001b[0m\u001b[1;33m.\u001b[0m\u001b[0mshape\u001b[0m\u001b[1;33m\u001b[0m\u001b[0m\n\u001b[0;32m     10\u001b[0m \u001b[1;32mprint\u001b[0m \u001b[0mseg\u001b[0m\u001b[1;33m.\u001b[0m\u001b[0mshape\u001b[0m\u001b[1;33m\u001b[0m\u001b[0m\n\u001b[1;32m---> 11\u001b[1;33m \u001b[0mdataset\u001b[0m\u001b[1;33m,\u001b[0m\u001b[0mlabel_set\u001b[0m\u001b[1;33m=\u001b[0m\u001b[0mtrim\u001b[0m\u001b[1;33m(\u001b[0m\u001b[0mim\u001b[0m\u001b[1;33m,\u001b[0m\u001b[0mlabel_set\u001b[0m\u001b[1;33m,\u001b[0m\u001b[0mseg\u001b[0m\u001b[1;33m)\u001b[0m\u001b[1;33m\u001b[0m\u001b[0m\n\u001b[0m\u001b[0;32m     12\u001b[0m \u001b[1;32mprint\u001b[0m \u001b[0mim\u001b[0m\u001b[1;33m.\u001b[0m\u001b[0mshape\u001b[0m\u001b[1;33m\u001b[0m\u001b[0m\n\u001b[0;32m     13\u001b[0m \u001b[1;32mprint\u001b[0m \u001b[0mlabel_set\u001b[0m\u001b[1;33m.\u001b[0m\u001b[0mshape\u001b[0m\u001b[1;33m\u001b[0m\u001b[0m\n",
      "\u001b[1;31mTypeError\u001b[0m: 'NoneType' object is not iterable"
     ]
    }
   ],
   "source": [
    "# loading seg\n",
    "dat_seg_file = '/groups/turaga/home/singhc/evaluation/data_tier2/train/out/fibsem3_200000/square/2000.dat'\n",
    "seg = load_seg_from_dat(dat_seg_file)\n",
    "# loading h5\n",
    "#hdf5_seg_file = '/groups/turaga/home/turagas/data/FlyEM/fibsem_medulla_7col/tstvol-520-2-h5/groundtruth_seg_thick.h5'\n",
    "#hdf5_seg = h5py.File(hdf5_seg_file, 'r')\n",
    "#seg = np.asarray(hdf5_seg['main'],dtype='uint32')\n",
    "print im.shape\n",
    "print label_set.shape\n",
    "print seg.shape\n",
    "dataset,label_set=trim(im,label_set,seg)\n",
    "print im.shape\n",
    "print label_set.shape\n",
    "print seg.shape\n",
    "display_seg(im, label_set, seg, im_size=label_set.shape[0], im2_size=seg.shape[0])"
   ]
  },
  {
   "cell_type": "code",
   "execution_count": 19,
   "metadata": {
    "collapsed": false
   },
   "outputs": [
    {
     "data": {
      "text/plain": [
       "(432, 432, 432)"
      ]
     },
     "execution_count": 19,
     "metadata": {},
     "output_type": "execute_result"
    }
   ],
   "source": [
    "seg.shape"
   ]
  },
  {
   "cell_type": "code",
   "execution_count": 26,
   "metadata": {
    "collapsed": false
   },
   "outputs": [
    {
     "name": "stdout",
     "output_type": "stream",
     "text": [
      "\u001b[H\u001b[2J"
     ]
    }
   ],
   "source": [
    "%clear"
   ]
  },
  {
   "cell_type": "code",
   "execution_count": null,
   "metadata": {
    "collapsed": true
   },
   "outputs": [],
   "source": []
  }
 ],
 "metadata": {
  "kernelspec": {
   "display_name": "Python 2",
   "language": "python",
   "name": "python2"
  },
  "language_info": {
   "codemirror_mode": {
    "name": "ipython",
    "version": 2
   },
   "file_extension": ".py",
   "mimetype": "text/x-python",
   "name": "python",
   "nbconvert_exporter": "python",
   "pygments_lexer": "ipython2",
   "version": "2.7.11"
  }
 },
 "nbformat": 4,
 "nbformat_minor": 0
}
